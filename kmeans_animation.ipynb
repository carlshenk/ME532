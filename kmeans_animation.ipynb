{
 "cells": [
  {
   "cell_type": "code",
   "execution_count": 48,
   "metadata": {},
   "outputs": [],
   "source": [
    "import numpy as np\n",
    "import matplotlib.pyplot as plt\n",
    "from ipywidgets import *\n",
    "#from ipywidgets import HBox, VBox, Label, IntSlider, FloatSlider, Button, Output\n",
    "from IPython.display import display\n",
    "\n",
    "def rand_2D_points(num_points, num_centroids, **kwargs):\n",
    "    \n",
    "    space = kwargs.get('space', 20)\n",
    "    noise = kwargs.get('noise' , 0.1)\n",
    "    \n",
    "    points    = np.zeros(shape = (num_points, 2))\n",
    "    centroids = np.zeros(shape = (num_centroids, 2))\n",
    "    \n",
    "    np.random.seed()\n",
    "    \n",
    "    for i in range(num_centroids):\n",
    "        centroids[i] = space*(np.random.rand(2) - 0.5)\n",
    "    \n",
    "    for i in range(num_points):\n",
    "        \n",
    "        points[i] = np.random.normal(\n",
    "            loc = centroids[np.random.choice(num_centroids)],\n",
    "            scale = noise * space,\n",
    "            size = (2)\n",
    "        )\n",
    "        \n",
    "    return points\n",
    "\n",
    "def euclid_dist(a, b):\n",
    "    return np.sqrt(np.sum((a - b)**2))\n",
    "\n",
    "## k-means algorithm\n",
    "## if centroids is an int, they will be chosen randomly from points\n",
    "def kmeans(data, centroids, max_iter = 100):\n",
    "    \n",
    "    n = data.shape[0]\n",
    "    s = np.zeros(n, dtype = int)\n",
    "    \n",
    "    if type(centroids) == int:\n",
    "        ## pick the centroids at random\n",
    "        centroids = data[np.random.choice(n, centroids), :]\n",
    "    \n",
    "    num = centroids.shape[0]\n",
    "    \n",
    "    c_new = 0\n",
    "    \n",
    "    for i in range(max_iter):\n",
    "        \n",
    "        c_old = c_new\n",
    "    \n",
    "        for j in range(n):\n",
    "            d = np.array([euclid_dist(data[j], centroids[k]) for k in range(num)])\n",
    "            s[j] = np.argmin(d)\n",
    "        \n",
    "        ## update centroids\n",
    "        for j in range(num):\n",
    "            centroids[j] = np.mean(data[s == j], axis = 0)\n",
    "            \n",
    "        ## calculate coherence\n",
    "        c_new = np.sum([np.linalg.norm(data[j] - centroids[s[j]]) for j in range(n)])\n",
    "        \n",
    "        if c_new == c_old: break\n",
    "\n",
    "    return s, centroids, c_new\n",
    "\n",
    "def kernel(d, h):\n",
    "    return (1/(h * np.sqrt(2 * np.pi))) * np.exp(-0.5 * (d/h)**2)\n",
    "\n",
    "def kernel_density(xi, X, bandwidth):\n",
    "    \n",
    "    dist = np.array([euclid_dist(xi, X[j]) for j in range(X.shape[0])])\n",
    "    \n",
    "    return np.sum(kernel(dist, bandwidth))\n",
    "\n",
    "def mean_shift(X, bandwidth, max_iter = 5):\n",
    "    \n",
    "    new_X = np.copy(X)\n",
    "    \n",
    "    for iteration in range(max_iter):\n",
    "        \n",
    "        for i, xi in enumerate(new_X):\n",
    "            \n",
    "            numer, denom = 0, 0\n",
    "            \n",
    "            for xj in X:\n",
    "                \n",
    "                dist = euclid_dist(xi, xj)\n",
    "                \n",
    "                weight = kernel(dist, bandwidth)\n",
    "                \n",
    "                numer += weight * xj\n",
    "                denom += weight\n",
    "                \n",
    "            new_X[i] = numer / denom\n",
    "            \n",
    "    return new_X\n",
    "            \n",
    "def mean_shift2(X, max_dist, bandwidth, max_iter = 5):\n",
    "    \n",
    "    new_X = np.zeros_like(X)\n",
    "    \n",
    "    for iteration in range(max_iter):\n",
    "        \n",
    "        for i, xi in enumerate(X):\n",
    "            \n",
    "            numer, denom = 0, 0\n",
    "            \n",
    "            for xj in X:\n",
    "                \n",
    "                dist = euclid_dist(xi, xj)\n",
    "                \n",
    "                if dist > max_dist: continue\n",
    "                \n",
    "                weight = kernel(dist, bandwidth)\n",
    "                \n",
    "                numer += weight * xj\n",
    "                denom += weight\n",
    "                \n",
    "            new_X[i] = numer / denom\n",
    "            \n",
    "        X = new_X\n",
    "            \n",
    "    return X\n",
    "                "
   ]
  },
  {
   "cell_type": "code",
   "execution_count": 2,
   "metadata": {},
   "outputs": [
    {
     "data": {
      "application/vnd.jupyter.widget-view+json": {
       "model_id": "76a977bdaf8a4375bf87bf51dd4e7498",
       "version_major": 2,
       "version_minor": 0
      },
      "text/plain": [
       "HBox(children=(VBox(children=(Label(value='Number of points: '), Label(value='Number of centroids: '), Label(v…"
      ]
     },
     "metadata": {},
     "output_type": "display_data"
    },
    {
     "data": {
      "application/vnd.jupyter.widget-view+json": {
       "model_id": "df0802b6ea364a56a253959bb79cd6c4",
       "version_major": 2,
       "version_minor": 0
      },
      "text/plain": [
       "Button(description='Generate Points', style=ButtonStyle())"
      ]
     },
     "metadata": {},
     "output_type": "display_data"
    },
    {
     "data": {
      "application/vnd.jupyter.widget-view+json": {
       "model_id": "398c0e752414485398c68ae1c7cc3d82",
       "version_major": 2,
       "version_minor": 0
      },
      "text/plain": [
       "Output()"
      ]
     },
     "metadata": {},
     "output_type": "display_data"
    }
   ],
   "source": [
    "points = np.array([])\n",
    "\n",
    "def generate_on_click(b):\n",
    "    \n",
    "    global points\n",
    "    \n",
    "    output_points.clear_output(wait = True)\n",
    "    \n",
    "    num_points = points_box.value\n",
    "    num_centroids = centroids_box.value\n",
    "    noise = noise_box.value\n",
    "    \n",
    "    points = rand_2D_points(num_points, num_centroids, noise = noise)\n",
    "    \n",
    "    fig, ax = plt.subplots(figsize = (6,6))\n",
    "\n",
    "    plt.plot(points[:,0], points[:,1], '.')\n",
    "    \n",
    "    plt.xticks([])\n",
    "    plt.yticks([])\n",
    "    \n",
    "    plt.axis('equal')\n",
    "    plt.tight_layout()\n",
    "    \n",
    "    with output_points:\n",
    "        plt.show()\n",
    "    \n",
    "points_box = IntSlider(\n",
    "    value = 100,\n",
    "    min = 10,\n",
    "    max = 1000\n",
    ")\n",
    "\n",
    "centroids_box = IntSlider(\n",
    "    value = 3,\n",
    "    min = 1,\n",
    "    max = 8\n",
    ")\n",
    "\n",
    "noise_box = FloatSlider(\n",
    "    value = 0.1,\n",
    "    min = 0.01,\n",
    "    max = 0.20,\n",
    "    step = 0.01,\n",
    "    readout_format = '0.2f'\n",
    ")\n",
    "\n",
    "generate_button = Button(\n",
    "    description = 'Generate Points'\n",
    ")\n",
    "\n",
    "generate_button.on_click(generate_on_click)\n",
    "\n",
    "output_points = Output()\n",
    "\n",
    "display(\n",
    "    HBox([VBox([Label('Number of points: '), Label('Number of centroids: '), Label('Noise: ')]),\n",
    "         VBox([points_box, centroids_box, noise_box])]),\n",
    "    generate_button,\n",
    "    output_points\n",
    ")"
   ]
  },
  {
   "cell_type": "code",
   "execution_count": 3,
   "metadata": {},
   "outputs": [
    {
     "data": {
      "application/vnd.jupyter.widget-view+json": {
       "model_id": "02c9c77d83364afab2c1151683480c61",
       "version_major": 2,
       "version_minor": 0
      },
      "text/plain": [
       "HBox(children=(VBox(children=(Label(value='Number of centroids: '), Label(value='Speed of Animation: '))), VBo…"
      ]
     },
     "metadata": {},
     "output_type": "display_data"
    },
    {
     "data": {
      "application/vnd.jupyter.widget-view+json": {
       "model_id": "84d24142356d4dfc899324783b12234d",
       "version_major": 2,
       "version_minor": 0
      },
      "text/plain": [
       "Button(description='Find clusters', style=ButtonStyle())"
      ]
     },
     "metadata": {},
     "output_type": "display_data"
    },
    {
     "data": {
      "application/vnd.jupyter.widget-view+json": {
       "model_id": "1f179f277ac54d7a846efc36ef1e8301",
       "version_major": 2,
       "version_minor": 0
      },
      "text/plain": [
       "Output()"
      ]
     },
     "metadata": {},
     "output_type": "display_data"
    }
   ],
   "source": [
    "import time\n",
    "\n",
    "def cluster_on_click(b):\n",
    "    \n",
    "    max_iter = 20\n",
    "    delay = speed_box.value\n",
    "    \n",
    "    num_k = num_k_box.value\n",
    "    centroids = num_k\n",
    "    \n",
    "    coherence = 0\n",
    "    \n",
    "    for i in range(max_iter):\n",
    "        \n",
    "        old_coherence = coherence\n",
    "    \n",
    "        s, centroids, coherence = kmeans(points, centroids, max_iter = 1)\n",
    "\n",
    "        fig, ax = plt.subplots(figsize = (6, 6))\n",
    "\n",
    "        for k in range(num_k):\n",
    "            plt.plot(points[s == k][:,0], points[s == k][:,1], '.')\n",
    "            plt.plot(*centroids[k], 'x', color = 'k')\n",
    "\n",
    "        plt.xticks([])\n",
    "        plt.yticks([])\n",
    "        \n",
    "        plt.axis('equal')\n",
    "        plt.tight_layout()\n",
    "    \n",
    "        output_clusters.clear_output(wait = True)\n",
    "    \n",
    "        with output_clusters:\n",
    "            print(f'Iteration {i + 1}')\n",
    "            print(f'Coherence = {coherence:.2f}')\n",
    "            plt.show()\n",
    "            \n",
    "        if coherence == old_coherence: break\n",
    "            \n",
    "        time.sleep(delay)\n",
    "    \n",
    "num_k_box = IntSlider(\n",
    "    value = 3,\n",
    "    min = 1,\n",
    "    max = 8\n",
    ")\n",
    "\n",
    "speed_box = FloatSlider(\n",
    "    value = 2.0,\n",
    "    min = 0,\n",
    "    max = 3,\n",
    "    step = 0.1,\n",
    "    readout_format = '0.1f'\n",
    ")\n",
    "\n",
    "cluster_button = Button(\n",
    "    description = 'Find clusters'\n",
    ")\n",
    "\n",
    "cluster_button.on_click(cluster_on_click)\n",
    "\n",
    "output_clusters = Output()\n",
    "\n",
    "display(\n",
    "    HBox([VBox([Label('Number of centroids: '), Label('Speed of Animation: ')]),\n",
    "          VBox([num_k_box, speed_box])]),\n",
    "    cluster_button,\n",
    "    output_clusters\n",
    ")"
   ]
  },
  {
   "cell_type": "code",
   "execution_count": 56,
   "metadata": {},
   "outputs": [
    {
     "data": {
      "application/vnd.jupyter.widget-view+json": {
       "model_id": "ef8a0709245b465eab7730de42c1ced8",
       "version_major": 2,
       "version_minor": 0
      },
      "text/plain": [
       "HBox(children=(Label(value='Bandwidth: '), FloatSlider(value=1.5, max=3.0, readout_format='0.1f')))"
      ]
     },
     "metadata": {},
     "output_type": "display_data"
    },
    {
     "data": {
      "application/vnd.jupyter.widget-view+json": {
       "model_id": "32a64ec1a8a54e2e9c411dd762f76029",
       "version_major": 2,
       "version_minor": 0
      },
      "text/plain": [
       "Button(description='Show KDE contours', style=ButtonStyle())"
      ]
     },
     "metadata": {},
     "output_type": "display_data"
    },
    {
     "data": {
      "application/vnd.jupyter.widget-view+json": {
       "model_id": "f5b90b2fd8e847f4a7e4ae3ab0d6a1b2",
       "version_major": 2,
       "version_minor": 0
      },
      "text/plain": [
       "FloatProgress(value=0.0, max=1.0)"
      ]
     },
     "metadata": {},
     "output_type": "display_data"
    },
    {
     "data": {
      "application/vnd.jupyter.widget-view+json": {
       "model_id": "8ea32a9ed2e8461281677d1b43f8d88c",
       "version_major": 2,
       "version_minor": 0
      },
      "text/plain": [
       "Output()"
      ]
     },
     "metadata": {},
     "output_type": "display_data"
    }
   ],
   "source": [
    "#new_p = mean_shift(points, 2, max_iter = 10)\n",
    "\n",
    "def contours_on_click(b):\n",
    "    \n",
    "    bandwidth = bandwidth_box.value\n",
    "    \n",
    "    fig, ax = plt.subplots(figsize = (6,6))\n",
    "\n",
    "    plt.plot(points[:,0], points[:,1], '.')\n",
    "    #plt.plot(new_p[:,0], new_p[:,1], '.')\n",
    "\n",
    "    x1 = np.linspace(*ax.get_xlim())\n",
    "    y1 = np.linspace(*ax.get_ylim())\n",
    "\n",
    "    z = np.zeros((len(x1), len(y1)))\n",
    "\n",
    "    for i in range(len(x1)):\n",
    "        for j in range(len(y1)):\n",
    "        \n",
    "            z[j, i] = kernel_density((x1[i], y1[j]), points, bandwidth)\n",
    "            progress_box.value = i/len(x1) + j/(len(y1) * len(x1))\n",
    "\n",
    "    plt.contour(x1, y1, z)\n",
    "    \n",
    "    plt.xticks([])\n",
    "    plt.yticks([])\n",
    "    \n",
    "    plt.title(f'KDE contour with bandwidth = {bandwidth}')\n",
    "    \n",
    "    plt.axis('equal')\n",
    "    plt.tight_layout()\n",
    "    \n",
    "    output_contours.clear_output(wait = True)\n",
    "    \n",
    "    with output_contours:\n",
    "        plt.show()\n",
    "\n",
    "bandwidth_box = FloatSlider(\n",
    "    value = 1.5,\n",
    "    min = 0,\n",
    "    max = 3,\n",
    "    step = 0.1,\n",
    "    readout_format = '0.1f'\n",
    ")\n",
    "\n",
    "progress_box = FloatProgress(\n",
    "    value = 0,\n",
    "    min = 0,\n",
    "    max = 1,\n",
    "    #description = 'Progress: '\n",
    ")\n",
    "\n",
    "contours_button = Button(\n",
    "    description = 'Show KDE contours'\n",
    ")\n",
    "\n",
    "contours_button.on_click(contours_on_click)\n",
    "\n",
    "output_contours = Output()\n",
    "\n",
    "fig, ax = plt.subplots(figsize = (6,6))\n",
    "\n",
    "plt.plot(points[:,0], points[:,1], '.')\n",
    "\n",
    "plt.xticks([])\n",
    "plt.yticks([])\n",
    "    \n",
    "plt.title('Raw points')\n",
    "    \n",
    "plt.axis('equal')\n",
    "plt.tight_layout()\n",
    "\n",
    "with output_contours:\n",
    "    plt.show()\n",
    "\n",
    "display(\n",
    "    HBox([Label('Bandwidth: '), bandwidth_box]),\n",
    "    contours_button,\n",
    "    progress_box,\n",
    "    output_contours\n",
    ")\n"
   ]
  },
  {
   "cell_type": "code",
   "execution_count": null,
   "metadata": {},
   "outputs": [],
   "source": []
  }
 ],
 "metadata": {
  "kernelspec": {
   "display_name": "Python 3",
   "language": "python",
   "name": "python3"
  },
  "language_info": {
   "codemirror_mode": {
    "name": "ipython",
    "version": 3
   },
   "file_extension": ".py",
   "mimetype": "text/x-python",
   "name": "python",
   "nbconvert_exporter": "python",
   "pygments_lexer": "ipython3",
   "version": "3.7.2"
  }
 },
 "nbformat": 4,
 "nbformat_minor": 2
}
