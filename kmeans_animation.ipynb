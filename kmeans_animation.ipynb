{
 "cells": [
  {
   "cell_type": "code",
   "execution_count": 9,
   "metadata": {},
   "outputs": [],
   "source": [
    "import numpy as np\n",
    "import matplotlib.pyplot as plt\n",
    "from ipywidgets import HBox, VBox, Label, IntSlider, FloatSlider, Button, Output\n",
    "from IPython.display import display\n",
    "\n",
    "def rand_2D_points(num_points, num_centroids, **kwargs):\n",
    "    \n",
    "    space = kwargs.get('space', 20)\n",
    "    noise = kwargs.get('noise' , 0.1)\n",
    "    \n",
    "    points    = np.zeros(shape = (num_points, 2))\n",
    "    centroids = np.zeros(shape = (num_centroids, 2))\n",
    "    \n",
    "    np.random.seed()\n",
    "    \n",
    "    for i in range(num_centroids):\n",
    "        centroids[i] = space*(np.random.rand(2) - 0.5)\n",
    "    \n",
    "    for i in range(num_points):\n",
    "        \n",
    "        points[i] = np.random.normal(\n",
    "            loc = centroids[np.random.choice(num_centroids)],\n",
    "            scale = noise * space,\n",
    "            size = (2)\n",
    "        )\n",
    "        \n",
    "    return points\n",
    "\n",
    "def find_dist(a, b):\n",
    "    return np.sqrt(np.sum([(a[i] - b[i])**2 for i in range(len(a))]))\n",
    "\n",
    "def kmeans(data, centroids, max_iter = 100):\n",
    "    \n",
    "    n = data.shape[0]\n",
    "    s = np.zeros(n, dtype = int)\n",
    "    \n",
    "    if type(centroids) == int:\n",
    "        ## pick the centroids at random\n",
    "        centroids = data[np.random.choice(n, centroids), :]\n",
    "    \n",
    "    num = centroids.shape[0]\n",
    "    \n",
    "    c_new = 0\n",
    "    \n",
    "    for i in range(max_iter):\n",
    "        \n",
    "        c_old = c_new\n",
    "    \n",
    "        for j in range(n):\n",
    "            d = np.array([find_dist(data[j], centroids[k]) for k in range(num)])\n",
    "            s[j] = np.argmin(d)\n",
    "            \n",
    "        #centroids = np.array([np.mean(data[s == j], axis = 0) for j in range(num)])\n",
    "        \n",
    "        ## update centroids\n",
    "        for j in range(num):\n",
    "            centroids[j] = np.mean(data[s == j], axis = 0)\n",
    "            \n",
    "        ## calculate coherence\n",
    "        c_new = np.sum([np.linalg.norm(data[j] - centroids[s[j]]) for j in range(n)])\n",
    "        \n",
    "        if c_new == c_old: break\n",
    "\n",
    "    return s, centroids, c_new"
   ]
  },
  {
   "cell_type": "code",
   "execution_count": 10,
   "metadata": {},
   "outputs": [
    {
     "data": {
      "application/vnd.jupyter.widget-view+json": {
       "model_id": "b7b8132651684605ba71680fcaaf74af",
       "version_major": 2,
       "version_minor": 0
      },
      "text/plain": [
       "HBox(children=(VBox(children=(Label(value='Number of points: '), Label(value='Number of centroids: '), Label(v…"
      ]
     },
     "metadata": {},
     "output_type": "display_data"
    },
    {
     "data": {
      "application/vnd.jupyter.widget-view+json": {
       "model_id": "c4da6b6ba9184769a3f5c0a55eedcb59",
       "version_major": 2,
       "version_minor": 0
      },
      "text/plain": [
       "Button(description='Generate Points', style=ButtonStyle())"
      ]
     },
     "metadata": {},
     "output_type": "display_data"
    },
    {
     "data": {
      "application/vnd.jupyter.widget-view+json": {
       "model_id": "48e43b8f5d994a5ab877fd11d5009776",
       "version_major": 2,
       "version_minor": 0
      },
      "text/plain": [
       "Output()"
      ]
     },
     "metadata": {},
     "output_type": "display_data"
    }
   ],
   "source": [
    "points = np.array([])\n",
    "\n",
    "def generate_on_click(b):\n",
    "    \n",
    "    global points\n",
    "    \n",
    "    output_points.clear_output(wait = True)\n",
    "    \n",
    "    num_points = points_box.value\n",
    "    num_centroids = centroids_box.value\n",
    "    noise = noise_box.value\n",
    "    \n",
    "    points = rand_2D_points(num_points, num_centroids, noise = noise)\n",
    "    \n",
    "    fig, ax = plt.subplots(figsize = (6,6))\n",
    "\n",
    "    plt.plot(points[:,0], points[:,1], '.')\n",
    "    \n",
    "    plt.xticks([])\n",
    "    plt.yticks([])\n",
    "    \n",
    "    plt.axis('equal')\n",
    "    plt.tight_layout()\n",
    "    \n",
    "    with output_points:\n",
    "        plt.show()\n",
    "    \n",
    "points_box = IntSlider(\n",
    "    value = 100,\n",
    "    min = 10,\n",
    "    max = 1000\n",
    ")\n",
    "\n",
    "centroids_box = IntSlider(\n",
    "    value = 3,\n",
    "    min = 1,\n",
    "    max = 8\n",
    ")\n",
    "\n",
    "noise_box = FloatSlider(\n",
    "    value = 0.1,\n",
    "    min = 0.01,\n",
    "    max = 0.20,\n",
    "    step = 0.01,\n",
    "    readout_format = '0.2f'\n",
    ")\n",
    "\n",
    "generate_button = Button(\n",
    "    description = 'Generate Points'\n",
    ")\n",
    "\n",
    "generate_button.on_click(generate_on_click)\n",
    "\n",
    "output_points = Output()\n",
    "\n",
    "display(\n",
    "    HBox([VBox([Label('Number of points: '), Label('Number of centroids: '), Label('Noise: ')]),\n",
    "         VBox([points_box, centroids_box, noise_box])]),\n",
    "    generate_button,\n",
    "    output_points\n",
    ")"
   ]
  },
  {
   "cell_type": "code",
   "execution_count": 11,
   "metadata": {},
   "outputs": [
    {
     "data": {
      "application/vnd.jupyter.widget-view+json": {
       "model_id": "af54cb176ff546189cd573056a5edd76",
       "version_major": 2,
       "version_minor": 0
      },
      "text/plain": [
       "HBox(children=(VBox(children=(Label(value='Number of centroids: '), Label(value='Speed of Animation: '))), VBo…"
      ]
     },
     "metadata": {},
     "output_type": "display_data"
    },
    {
     "data": {
      "application/vnd.jupyter.widget-view+json": {
       "model_id": "64401abd0d5148a7bfc1c41f2a12d6b0",
       "version_major": 2,
       "version_minor": 0
      },
      "text/plain": [
       "Button(description='Find clusters', style=ButtonStyle())"
      ]
     },
     "metadata": {},
     "output_type": "display_data"
    },
    {
     "data": {
      "application/vnd.jupyter.widget-view+json": {
       "model_id": "1d424907586d4e4fa3d5cce2847e4271",
       "version_major": 2,
       "version_minor": 0
      },
      "text/plain": [
       "Output()"
      ]
     },
     "metadata": {},
     "output_type": "display_data"
    }
   ],
   "source": [
    "import time\n",
    "\n",
    "def cluster_on_click(b):\n",
    "    \n",
    "    max_iter = 20\n",
    "    delay = speed_box.value\n",
    "    \n",
    "    num_k = num_k_box.value\n",
    "    centroids = num_k\n",
    "    \n",
    "    coherence = 0\n",
    "    \n",
    "    for i in range(max_iter):\n",
    "        \n",
    "        old_coherence = coherence\n",
    "    \n",
    "        s, centroids, coherence = kmeans(points, centroids, max_iter = 1)\n",
    "\n",
    "        fig, ax = plt.subplots(figsize = (6, 6))\n",
    "\n",
    "        for k in range(num_k):\n",
    "            plt.plot(points[s == k][:,0], points[s == k][:,1], '.')\n",
    "            plt.plot(*centroids[k], 'x', color = 'k')\n",
    "\n",
    "        plt.xticks([])\n",
    "        plt.yticks([])\n",
    "        \n",
    "        plt.axis('equal')\n",
    "        plt.tight_layout()\n",
    "    \n",
    "        output_clusters.clear_output(wait = True)\n",
    "    \n",
    "        with output_clusters:\n",
    "            print(f'Iteration {i + 1}')\n",
    "            print(f'Coherence = {coherence:.2f}')\n",
    "            plt.show()\n",
    "            \n",
    "        if coherence == old_coherence: break\n",
    "            \n",
    "        time.sleep(delay)\n",
    "    \n",
    "num_k_box = IntSlider(\n",
    "    value = 3,\n",
    "    min = 1,\n",
    "    max = 8\n",
    ")\n",
    "\n",
    "speed_box = FloatSlider(\n",
    "    value = 2.0,\n",
    "    min = 0,\n",
    "    max = 3,\n",
    "    step = 0.1,\n",
    "    readout_format = '0.1f'\n",
    ")\n",
    "\n",
    "cluster_button = Button(\n",
    "    description = 'Find clusters'\n",
    ")\n",
    "\n",
    "cluster_button.on_click(cluster_on_click)\n",
    "\n",
    "output_clusters = Output()\n",
    "\n",
    "display(\n",
    "    HBox([VBox([Label('Number of centroids: '), Label('Speed of Animation: ')]),\n",
    "          VBox([num_k_box, speed_box])]),\n",
    "    cluster_button,\n",
    "    output_clusters\n",
    ")"
   ]
  },
  {
   "cell_type": "code",
   "execution_count": null,
   "metadata": {},
   "outputs": [],
   "source": []
  }
 ],
 "metadata": {
  "kernelspec": {
   "display_name": "Python 3",
   "language": "python",
   "name": "python3"
  },
  "language_info": {
   "codemirror_mode": {
    "name": "ipython",
    "version": 3
   },
   "file_extension": ".py",
   "mimetype": "text/x-python",
   "name": "python",
   "nbconvert_exporter": "python",
   "pygments_lexer": "ipython3",
   "version": "3.7.2"
  }
 },
 "nbformat": 4,
 "nbformat_minor": 2
}
