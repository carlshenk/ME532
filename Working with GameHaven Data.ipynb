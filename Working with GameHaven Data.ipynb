{
 "cells": [
  {
   "cell_type": "markdown",
   "metadata": {},
   "source": [
    "# Importing Packages & Loadign Data"
   ]
  },
  {
   "cell_type": "code",
   "execution_count": 135,
   "metadata": {},
   "outputs": [
    {
     "ename": "ModuleNotFoundError",
     "evalue": "No module named 'termcolor'",
     "output_type": "error",
     "traceback": [
      "\u001b[0;31m---------------------------------------------------------------------------\u001b[0m",
      "\u001b[0;31mModuleNotFoundError\u001b[0m                       Traceback (most recent call last)",
      "\u001b[0;32m<ipython-input-135-d6056db7601d>\u001b[0m in \u001b[0;36m<module>\u001b[0;34m()\u001b[0m\n\u001b[1;32m      4\u001b[0m \u001b[0;32mfrom\u001b[0m \u001b[0mipywidgets\u001b[0m \u001b[0;32mimport\u001b[0m \u001b[0mHBox\u001b[0m\u001b[0;34m,\u001b[0m \u001b[0mVBox\u001b[0m\u001b[0;34m,\u001b[0m \u001b[0mLabel\u001b[0m\u001b[0;34m,\u001b[0m \u001b[0mIntSlider\u001b[0m\u001b[0;34m,\u001b[0m \u001b[0mFloatSlider\u001b[0m\u001b[0;34m,\u001b[0m \u001b[0mButton\u001b[0m\u001b[0;34m,\u001b[0m \u001b[0mOutput\u001b[0m\u001b[0;34m\u001b[0m\u001b[0m\n\u001b[1;32m      5\u001b[0m \u001b[0;32mfrom\u001b[0m \u001b[0mIPython\u001b[0m\u001b[0;34m.\u001b[0m\u001b[0mdisplay\u001b[0m \u001b[0;32mimport\u001b[0m \u001b[0mclear_output\u001b[0m\u001b[0;34m\u001b[0m\u001b[0m\n\u001b[0;32m----> 6\u001b[0;31m \u001b[0;32mfrom\u001b[0m \u001b[0mtermcolor\u001b[0m \u001b[0;32mimport\u001b[0m \u001b[0mcolored\u001b[0m\u001b[0;34m\u001b[0m\u001b[0m\n\u001b[0m\u001b[1;32m      7\u001b[0m \u001b[0;34m\u001b[0m\u001b[0m\n\u001b[1;32m      8\u001b[0m \u001b[0;32mwith\u001b[0m \u001b[0mopen\u001b[0m\u001b[0;34m(\u001b[0m\u001b[0;34m'ECE532GameData.json'\u001b[0m\u001b[0;34m,\u001b[0m \u001b[0;34m'r'\u001b[0m\u001b[0;34m)\u001b[0m \u001b[0;32mas\u001b[0m \u001b[0mf1\u001b[0m\u001b[0;34m:\u001b[0m\u001b[0;34m\u001b[0m\u001b[0m\n",
      "\u001b[0;31mModuleNotFoundError\u001b[0m: No module named 'termcolor'"
     ]
    }
   ],
   "source": [
    "import json\n",
    "import numpy as np\n",
    "import matplotlib.pyplot as plt\n",
    "from ipywidgets import HBox, VBox, Label, IntSlider, FloatSlider, Button, Output\n",
    "from IPython.display import clear_output\n",
    "from termcolor import colored\n",
    "\n",
    "with open('ECE532GameData.json', 'r') as f1:\n",
    "    games = json.load(f1)\n",
    "    \n",
    "with open('ECE532PlayerData.json', 'r') as f2:\n",
    "    users = json.load(f2)\n",
    "    \n",
    "#complexity = []\n",
    "#depth = []\n",
    "#i = 0\n",
    "#for each in games:    \n",
    "#    complexity.append(games[i][\"primaryCategories\"][0][\"complexity\"])\n",
    "#    depth.append(games[i][\"primaryCategories\"][0][\"depth\"])\n",
    "#    i = i + 1\n",
    "#gameCategories = np.column_stack((complexity, depth))\n",
    "\n",
    "i = 0\n",
    "gameCategories = []\n",
    "for each in games:    \n",
    "    gameCategories.append([games[i][\"primaryCategories\"][0][\"complexity\"], \n",
    "                           games[i][\"primaryCategories\"][0][\"depth\"], \n",
    "                           games[i][\"primaryCategories\"][0][\"speed\"], \n",
    "                           games[i][\"primaryCategories\"][0][\"thematic\"], \n",
    "                           games[i][\"primaryCategories\"][0][\"interaction\"], \n",
    "                           games[i][\"primaryCategories\"][0][\"players\"], \n",
    "                           games[i][\"primaryCategories\"][0][\"mass\"], \n",
    "                           games[i][\"primaryCategories\"][0][\"obscurity\"]])\n",
    "    i = i + 1\n",
    "# print(gameCategories2)\n",
    "\n",
    "i = 0\n",
    "userCategories = []\n",
    "userTags = []\n",
    "for each in users:    \n",
    "    userCategories.append([users[i][\"complexity1C\"], users[i][\"complexity2C\"],\n",
    "                             users[i][\"complexity3C\"], users[i][\"complexity4C\"],\n",
    "                             users[i][\"complexity5C\"], users[i][\"depth1C\"],\n",
    "                             users[i][\"depth2C\"], users[i][\"depth3C\"],\n",
    "                             users[i][\"depth4C\"], users[i][\"depth5C\"],\n",
    "                             users[i][\"speed1C\"], users[i][\"speed2C\"],\n",
    "                             users[i][\"speed3C\"], users[i][\"speed4C\"],\n",
    "                             users[i][\"speed5C\"], users[i][\"thematic1C\"],\n",
    "                             users[i][\"thematic2C\"], users[i][\"thematic3C\"],\n",
    "                             users[i][\"thematic4C\"], users[i][\"thematic5C\"],\n",
    "                             users[i][\"interaction1C\"], users[i][\"interaction2C\"],\n",
    "                             users[i][\"interaction3C\"], users[i][\"interaction4C\"],\n",
    "                             users[i][\"interaction5C\"], users[i][\"players1C\"],\n",
    "                             users[i][\"players2C\"], users[i][\"players3C\"],\n",
    "                             users[i][\"players4C\"], users[i][\"players5C\"],\n",
    "                             users[i][\"mass1C\"], users[i][\"mass2C\"],\n",
    "                             users[i][\"mass3C\"], users[i][\"mass4C\"],\n",
    "                             users[i][\"mass5C\"], users[i][\"obscurity1C\"],\n",
    "                             users[i][\"obscurity2C\"], users[i][\"obscurity3C\"],\n",
    "                             users[i][\"obscurity4C\"], users[i][\"obscurity5C\"]\n",
    "                          ])\n",
    "    userTags.append([users[i][\"competitionTags\"][\"Solo\"],\n",
    "                     users[i][\"competitionTags\"][\"Cooperative\"],\n",
    "                     users[i][\"competitionTags\"][\"Teams\"],\n",
    "                     users[i][\"competitionTags\"][\"Asymetric\"],\n",
    "                     users[i][\"competitionTags\"][\"SemiCompetitive\"],\n",
    "                     users[i][\"competitionTags\"][\"Competitive\"],\n",
    "                     users[i][\"mechanicTags\"][\"DeckBuilding\"],\n",
    "                     users[i][\"mechanicTags\"][\"SetCollection\"],\n",
    "                     users[i][\"mechanicTags\"][\"AreaControl\"],\n",
    "                     users[i][\"mechanicTags\"][\"WorkerPlacement\"],\n",
    "                     users[i][\"mechanicTags\"][\"TrickTaking\"],\n",
    "                     users[i][\"mechanicTags\"][\"Drafting\"],\n",
    "                     users[i][\"mechanicTags\"][\"Legacy\"],\n",
    "                     users[i][\"mechanicTags\"][\"RealTime\"],\n",
    "                     users[i][\"mechanicTags\"][\"HiddenObjectives\"],\n",
    "                     users[i][\"mechanicTags\"][\"HiddenInformation\"],\n",
    "                     users[i][\"mechanicTags\"][\"RoleSpinMove\"],\n",
    "                     users[i][\"mechanicTags\"][\"EngineBuilding\"],\n",
    "                     users[i][\"settingTags\"][\"Fantasy\"],\n",
    "                     users[i][\"settingTags\"][\"SciFi\"],\n",
    "                     users[i][\"settingTags\"][\"Historical\"],\n",
    "                     users[i][\"settingTags\"][\"Dystopia\"],\n",
    "                     users[i][\"settingTags\"][\"Contemporary\"],\n",
    "                     users[i][\"settingTags\"][\"Horror\"],\n",
    "                     users[i][\"settingTags\"][\"Space\"],\n",
    "                     users[i][\"settingTags\"][\"Medieval\"],\n",
    "                     users[i][\"settingTags\"][\"Western\"],\n",
    "                     users[i][\"settingTags\"][\"SteamVictorian\"],\n",
    "                     users[i][\"uncertaintyTags\"][\"Dice\"],\n",
    "                     users[i][\"uncertaintyTags\"][\"Card\"],\n",
    "                     users[i][\"uncertaintyTags\"][\"HiddenRole\"],\n",
    "                     users[i][\"uncertaintyTags\"][\"PressLuck\"],\n",
    "                     users[i][\"uncertaintyTags\"][\"Electornic\"],\n",
    "                     users[i][\"uncertaintyTags\"][\"Tile\"],\n",
    "                     users[i][\"interactionTags\"][\"Trading\"],\n",
    "                     users[i][\"interactionTags\"][\"RolePlaying\"],\n",
    "                     users[i][\"interactionTags\"][\"StoryTelling\"],\n",
    "                     users[i][\"interactionTags\"][\"Combat\"],\n",
    "                     users[i][\"interactionTags\"][\"AuctionBidding\"],\n",
    "                     users[i][\"interactionTags\"][\"TakeThat\"],\n",
    "                     users[i][\"interactionTags\"][\"BettingWager\"],\n",
    "                     users[i][\"interactionTags\"][\"Racing\"],\n",
    "                     users[i][\"interactionTags\"][\"SimultaneiousActions\"],\n",
    "                     users[i][\"interactionTags\"][\"Voting\"],\n",
    "                     users[i][\"interactionTags\"][\"RockPaperScissors\"],\n",
    "                     users[i][\"interactionTags\"][\"Deception\"],\n",
    "                     users[i][\"atmosphereTags\"][\"Thematic\"],\n",
    "                     users[i][\"atmosphereTags\"][\"Abstract\"],\n",
    "                     users[i][\"atmosphereTags\"][\"Adventure\"],\n",
    "                     users[i][\"atmosphereTags\"][\"Economic\"],\n",
    "                     users[i][\"atmosphereTags\"][\"Educational\"],\n",
    "                     users[i][\"atmosphereTags\"][\"Humor\"],\n",
    "                     users[i][\"atmosphereTags\"][\"Party\"],\n",
    "                     users[i][\"atmosphereTags\"][\"Social\"],\n",
    "                     users[i][\"atmosphereTags\"][\"Family\"],\n",
    "                     users[i][\"atmosphereTags\"][\"War\"],\n",
    "                     users[i][\"atmosphereTags\"][\"Puzzle\"],\n",
    "                     users[i][\"atmosphereTags\"][\"Adult\"],\n",
    "                     users[i][\"skillTags\"][\"Trivia\"],\n",
    "                     users[i][\"skillTags\"][\"Acting\"],\n",
    "                     users[i][\"skillTags\"][\"Memory\"],\n",
    "                     users[i][\"skillTags\"][\"Deduction\"],\n",
    "                     users[i][\"skillTags\"][\"Dexterity\"],\n",
    "                     users[i][\"skillTags\"][\"PatternRecognition\"],\n",
    "                     users[i][\"skillTags\"][\"Programming\"],\n",
    "                     users[i][\"skillTags\"][\"Planning\"],\n",
    "                     users[i][\"skillTags\"][\"Luck\"],\n",
    "                     users[i][\"skillTags\"][\"Influence\"],\n",
    "                     users[i][\"skillTags\"][\"Persuesion\"],\n",
    "                    ])\n",
    "                    \n",
    "    i = i + 1\n",
    "\n",
    "\n"
   ]
  },
  {
   "cell_type": "markdown",
   "metadata": {},
   "source": [
    "# Low Rank Approximation of Games"
   ]
  },
  {
   "cell_type": "code",
   "execution_count": 5,
   "metadata": {},
   "outputs": [
    {
     "name": "stdout",
     "output_type": "stream",
     "text": [
      "Game Categories s =  [ 30.87240838   5.79199388   5.05108062   4.85432869   4.47456099\n",
      "   3.82418021   3.64003219   2.89804696]\n",
      "Shape of categories =  (500, 8) \n",
      "\n"
     ]
    }
   ],
   "source": [
    "\n",
    "gamesU, gamesS, gamesV = np.linalg.svd(gameCategories)\n",
    "print(\"Game Categories s = \", gamesS)\n",
    "print(\"Shape of categories = \", np.shape(gameCategories), \"\\n\")"
   ]
  },
  {
   "cell_type": "markdown",
   "metadata": {},
   "source": [
    "# Testing SVD on Games"
   ]
  },
  {
   "cell_type": "code",
   "execution_count": 22,
   "metadata": {
    "scrolled": true
   },
   "outputs": [
    {
     "name": "stdout",
     "output_type": "stream",
     "text": [
      "Game Categories s =  [ 72.98744013  12.36622164  11.00653577   9.78493228   8.6882836\n",
      "   7.76528553   7.11466994   6.72871999   6.17305439   6.12021342\n",
      "   5.94317425   5.77805691   5.61776141   5.50900061   5.34573807\n",
      "   5.18048412   5.1476983    4.99935529   4.89863686   4.85374569\n",
      "   4.76303555   4.69741015   4.63652287   4.54229116   4.49987463\n",
      "   4.40932203   4.33019313   4.25970632   4.1937318    4.12056231\n",
      "   4.04831683   3.94354979   3.84233451   3.79685744   3.68102029\n",
      "   3.67171347   3.4428323    3.37107659   3.34910164   3.16376396]\n",
      "Shape of categories =  (500, 40) \n",
      "\n"
     ]
    }
   ],
   "source": [
    "\n",
    "usersU, usersS, usersV = np.linalg.svd(userCategories)\n",
    "print(\"Game Categories s = \", usersS)\n",
    "print(\"Shape of categories = \", np.shape(userCategories), \"\\n\")"
   ]
  },
  {
   "cell_type": "markdown",
   "metadata": {},
   "source": [
    "# Combining Matricies"
   ]
  },
  {
   "cell_type": "code",
   "execution_count": 9,
   "metadata": {},
   "outputs": [
    {
     "name": "stdout",
     "output_type": "stream",
     "text": [
      "Shape of User Categories:  (500, 40)   Shape of User Tags:  (500, 69)\n",
      "Shape of User Combined:  (500, 109) \n",
      "\n",
      "Game Categories s =  [ 118.17985904   13.99687067   12.63617318   11.85410985   10.65844039\n",
      "   10.23568155   10.07668879    9.8834534     9.2303376     8.88368804\n",
      "    8.78740172    8.32059037    8.26197062    7.91936885    7.59039099\n",
      "    7.34081404    7.30320961    7.09374964    6.97206804    6.7376351\n",
      "    6.27738442    6.14844063    6.08827567    5.91297908    5.79417765\n",
      "    5.71838253    5.70053894    5.67063391    5.64263952    5.61548608\n",
      "    5.50747243    5.45930555    5.41473972    5.32211316    5.25214268\n",
      "    5.21780888    5.16292937    5.1384015     5.13211349    5.06570523\n",
      "    5.03798709    5.01331956    4.94150784    4.93134182    4.87628037\n",
      "    4.84362078    4.79294358    4.75336445    4.70390749    4.69192351\n",
      "    4.62210569    4.5696243     4.56750788    4.54283066    4.51650519\n",
      "    4.50100579    4.41063217    4.36069739    4.33248089    4.31165387\n",
      "    4.29022827    4.24313239    4.17787627    4.15019489    4.1143896\n",
      "    4.09494472    4.07863707    4.00753547    3.9888876     3.97379398\n",
      "    3.92594442    3.87646252    3.85181247    3.80553343    3.78208332\n",
      "    3.75531961    3.72461078    3.71307484    3.64548799    3.60987879\n",
      "    3.58029309    3.5571591     3.53227564    3.50443827    3.4537663\n",
      "    3.39657439    3.38395345    3.32306766    3.30018231    3.27908767\n",
      "    3.24277376    3.22615741    3.19460971    3.11763764    3.10171513\n",
      "    3.04898806    2.99071299    2.9697002     2.92459026    2.89740974\n",
      "    2.85665759    2.83603642    2.71845616    2.6866956     2.66019137\n",
      "    2.61886731    2.54991096    2.52346424    2.36548319]\n"
     ]
    }
   ],
   "source": [
    "print(\"Shape of User Categories: \", np.shape(userCategories), \"  Shape of User Tags: \", np.shape(userTags))\n",
    "userCombined = np.hstack((userCategories,userTags))\n",
    "print(\"Shape of User Combined: \", np.shape(userCombined), \"\\n\")\n"
   ]
  },
  {
   "cell_type": "markdown",
   "metadata": {},
   "source": [
    "# Singular Value Decomposition of User "
   ]
  },
  {
   "cell_type": "code",
   "execution_count": 67,
   "metadata": {},
   "outputs": [
    {
     "name": "stdout",
     "output_type": "stream",
     "text": [
      "[57.522864611467703, 55.793974268261152, 54.344224090850375, 53.035599097374977, 51.953560225122004, 50.935284855470563, 49.928584862302706, 48.940585767373257, 48.062270057426865, 47.234117859406211, 46.409519077700068, 45.657543045618979, 44.903798039987699, 44.199939767283972, 43.543319121355175, 42.920077927056575, 42.294162937806689, 41.695022900665059, 41.107970053529264, 40.552058827453628, 40.063248994050326, 39.588642282548435, 39.117687778201145, 38.668206262405661, 38.231631941111146, 37.80155793316073, 37.369260602101541, 36.936506995844333, 36.502961089186691, 36.068441667744651, 35.645479822422757, 35.224937398046436, 34.806275418245889, 34.396975448785952, 33.993630539460284, 33.590793199305708, 33.191648770170517, 32.791498564773327, 32.387401706448259, 31.98878584411111, 31.589572739119241, 31.189224626915397, 30.795279395815314, 30.397879875017161, 30.00421621469604, 29.610679296619278, 29.220198840609928, 28.830982409317468, 28.444662083083099, 28.055029046717788, 27.67166048176912, 27.291744677798363, 26.906824400747336, 26.520555969355765, 26.133141215706953, 25.742610914038817, 25.361946701655146, 24.984248212451945, 24.605736487577172, 24.22502650216763, 23.842102475633379, 23.461493515398384, 23.086511816302593, 22.71041413670477, 22.334607865830854, 21.956004560015412, 21.573846570748969, 21.198361147039272, 20.819685181415529, 20.436933539037959, 20.056301077501981, 19.678116049034152, 19.297455581500312, 18.918501717331946, 18.536600362252834, 18.152221011096305, 17.765990042221048, 17.373643182784491, 16.986874190332902, 16.598875560849208, 16.208151383592416, 15.812994352220922, 15.413429833038409, 15.009754548188255, 14.606992502315375, 14.206601013686058, 13.79769442418934, 13.391549304099577, 12.978535720909342, 12.557466842282157, 12.131545318109453, 11.694712488991003, 11.249923065879928, 10.809306386377173, 10.354731663962186, 9.8956626677543298, 9.4329091727634378, 8.953248358984272, 8.4621172296397216, 7.9506254366721745, 7.4197002798462854, 6.8562999974145011, 6.2943503040729576, 5.692144808758135, 5.0322852070025377, 4.2971418868179949, 3.458812297923715, 2.3654831924524595, 3.6149134416865979e-13]\n"
     ]
    }
   ],
   "source": [
    "# create U, sigma, V SVD matricies from the user data, both categories and tags\n",
    "usersU, usersS, usersV = np.linalg.svd(userCombined, full_matrices=False)\n",
    "\n",
    "fNormArray = []\n",
    "### Rank of Model ###\n",
    "for i in range(np.size(usersS)):\n",
    "    rank = i + 1 #                                            for revese ordering, use: np.size(usersS) - i\n",
    "    uLowRankUsers = usersU[:,0:rank] #                        Columns of U will be basis of user patterns\n",
    "    diagElements = usersS[0:rank]\n",
    "    sLowRankUsers = np.diag(diagElements)\n",
    "    vLowRankUsers = np.transpose(usersV)[:,0:rank] #          sigma * Vt will make the weighting matrix\n",
    "    vTLowRankUsers = np.transpose(vLowRankUsers)  \n",
    "\n",
    "    weightsLowRankUsers = np.matmul(sLowRankUsers, vTLowRankUsers)\n",
    "    users_hat = np.matmul(uLowRankUsers, weightsLowRankUsers)   #   caluclated from partial u * s * vt\n",
    "    \n",
    "    fNormArray.append(np.linalg.norm(userCombined - users_hat))    # calcualting the norm of the model error\n",
    "    \n",
    "# print(\"Shape users: \", np.shape(userCombined), \"  Shape users_hat: \", np.shape(users_hat))\n",
    "print(fNormArray)\n",
    "    "
   ]
  },
  {
   "cell_type": "markdown",
   "metadata": {},
   "source": [
    "# Plotting the norm of differnce between the data & low rank SVD approximation"
   ]
  },
  {
   "cell_type": "code",
   "execution_count": 72,
   "metadata": {},
   "outputs": [
    {
     "data": {
      "text/plain": [
       "[<matplotlib.lines.Line2D at 0x7f68e5e99e48>]"
      ]
     },
     "execution_count": 72,
     "metadata": {},
     "output_type": "execute_result"
    },
    {
     "data": {
      "image/png": "[encoded data removed]",
      "text/plain": [
       "<Figure size 432x288 with 1 Axes>"
      ]
     },
     "metadata": {},
     "output_type": "display_data"
    }
   ],
   "source": [
    "plt.plot(fNormArray)"
   ]
  },
  {
   "cell_type": "markdown",
   "metadata": {},
   "source": [
    "# Selecting a approximation rank and testing several users"
   ]
  },
  {
   "cell_type": "code",
   "execution_count": 137,
   "metadata": {
    "scrolled": false
   },
   "outputs": [
    {
     "data": {
      "application/vnd.jupyter.widget-view+json": {
       "model_id": "a74191d9b9b343dd8e23c8c543a54ce1",
       "version_major": 2,
       "version_minor": 0
      },
      "text/plain": [
       "HBox(children=(VBox(children=(Label(value='Model Rank: '),)), VBox(children=(IntSlider(value=109, max=109, min…"
      ]
     },
     "metadata": {},
     "output_type": "display_data"
    },
    {
     "data": {
      "application/vnd.jupyter.widget-view+json": {
       "model_id": "d7d7873bcb954e71bc9782bd062e719d",
       "version_major": 2,
       "version_minor": 0
      },
      "text/plain": [
       "Button(description='Update Model', style=ButtonStyle())"
      ]
     },
     "metadata": {},
     "output_type": "display_data"
    },
    {
     "data": {
      "application/vnd.jupyter.widget-view+json": {
       "model_id": "49442e9130de44d9a22b63be169e6f70",
       "version_major": 2,
       "version_minor": 0
      },
      "text/plain": [
       "HBox(children=(VBox(children=(Label(value='User: '),)), VBox(children=(IntSlider(value=69, max=499),))))"
      ]
     },
     "metadata": {},
     "output_type": "display_data"
    },
    {
     "data": {
      "application/vnd.jupyter.widget-view+json": {
       "model_id": "010d6470cd7d485b96dce9890874db6b",
       "version_major": 2,
       "version_minor": 0
      },
      "text/plain": [
       "Button(description='View User', style=ButtonStyle())"
      ]
     },
     "metadata": {},
     "output_type": "display_data"
    },
    {
     "name": "stdout",
     "output_type": "stream",
     "text": [
      "complexity1C: Actual: 0.9566386464    Low Rank Model: 0.9566386464\n",
      "complexity2C: Actual: 0.8363859204    Low Rank Model: 0.8363859204\n",
      "complexity3C: Actual: 0.6386304127    Low Rank Model: 0.6386304127\n",
      "complexity4C: Actual: 0.2913863032    Low Rank Model: 0.2913863032\n",
      "complexity5C: Actual: 0.1751967692    Low Rank Model: 0.1751967692\n",
      "depth1C: Actual: 0.0685078225    Low Rank Model: 0.0685078225\n",
      "depth2C: Actual: 0.3371373551    Low Rank Model: 0.3371373551\n",
      "depth3C: Actual: 0.1177387328    Low Rank Model: 0.1177387328\n",
      "depth4C: Actual: 0.7544286931    Low Rank Model: 0.7544286931\n",
      "depth5C: Actual: 0.3357138981    Low Rank Model: 0.3357138981\n",
      "speed1C: Actual: 0.6155679359    Low Rank Model: 0.6155679359\n",
      "speed2C: Actual: 0.7554101952    Low Rank Model: 0.7554101952\n",
      "speed3C: Actual: 0.9825383129    Low Rank Model: 0.9825383129\n",
      "speed4C: Actual: 0.7753324489    Low Rank Model: 0.7753324489\n",
      "speed5C: Actual: 0.5325887337    Low Rank Model: 0.5325887337\n",
      "thematic1C: Actual: 0.4042295698    Low Rank Model: 0.4042295698\n",
      "thematic2C: Actual: 0.340117861    Low Rank Model: 0.340117861\n",
      "thematic3C: Actual: 0.7996107359    Low Rank Model: 0.7996107359\n",
      "thematic4C: Actual: 0.2403918016    Low Rank Model: 0.2403918016\n",
      "thematic5C: Actual: 0.7076303447    Low Rank Model: 0.7076303447\n",
      "interaction1C: Actual: 0.245056798    Low Rank Model: 0.245056798\n",
      "interaction2C: Actual: 0.8784474434    Low Rank Model: 0.8784474434\n",
      "interaction3C: Actual: 0.8679417345    Low Rank Model: 0.8679417345\n",
      "interaction4C: Actual: 0.3992528188    Low Rank Model: 0.3992528188\n",
      "interaction5C: Actual: 0.1467309174    Low Rank Model: 0.1467309174\n"
     ]
    }
   ],
   "source": [
    "rank = 10\n",
    "user = 0\n",
    "\n",
    "def generate_on_click1(b):\n",
    "\n",
    "    global users_hat\n",
    "    rank = rank_box.value\n",
    "    \n",
    "    uLowRankUsers = usersU[:,0:rank] #                        Columns of U will be basis of user patterns\n",
    "    diagElements = usersS[0:rank]\n",
    "    sLowRankUsers = np.diag(diagElements)\n",
    "    vLowRankUsers = np.transpose(usersV)[:,0:rank] #          sigma * Vt will make the weighting matrix\n",
    "    vTLowRankUsers = np.transpose(vLowRankUsers)  \n",
    "\n",
    "    weightsLowRankUsers = np.matmul(sLowRankUsers, vTLowRankUsers)\n",
    "    users_hat = np.matmul(uLowRankUsers, weightsLowRankUsers) \n",
    "    print(\"Rank = \", rank)\n",
    "    \n",
    "def generate_on_click2(b):\n",
    "\n",
    "    clear_output()\n",
    "    user = user_box.value\n",
    "    \n",
    "    display(\n",
    "    HBox([VBox([Label('Model Rank: ')]),\n",
    "          VBox([rank_box])]),\n",
    "    generate_button1,\n",
    "        HBox([VBox([Label('User: ')]),\n",
    "          VBox([user_box])]),\n",
    "    generate_button2\n",
    "    )\n",
    "    \n",
    "    print(\"complexity1C: Actual:\", userCombined[user][0], \"   Low Rank Model:\", users_hat[user][0])\n",
    "    print(\"complexity2C: Actual:\", userCombined[user][1], \"   Low Rank Model:\", users_hat[user][1])\n",
    "    print(\"complexity3C: Actual:\", userCombined[user][2], \"   Low Rank Model:\", users_hat[user][2])\n",
    "    print(\"complexity4C: Actual:\", userCombined[user][3], \"   Low Rank Model:\", users_hat[user][3])\n",
    "    print(\"complexity5C: Actual:\", userCombined[user][4], \"   Low Rank Model:\", users_hat[user][4])\n",
    "    print(\"depth1C: Actual:\", userCombined[user][5], \"   Low Rank Model:\", users_hat[user][5])\n",
    "    print(\"depth2C: Actual:\", userCombined[user][6], \"   Low Rank Model:\", users_hat[user][6])\n",
    "    print(\"depth3C: Actual:\", userCombined[user][7], \"   Low Rank Model:\", users_hat[user][7])\n",
    "    print(\"depth4C: Actual:\", userCombined[user][8], \"   Low Rank Model:\", users_hat[user][8])\n",
    "    print(\"depth5C: Actual:\", userCombined[user][9], \"   Low Rank Model:\", users_hat[user][9])\n",
    "    print(\"speed1C: Actual:\", userCombined[user][10], \"   Low Rank Model:\", users_hat[user][10])\n",
    "    print(\"speed2C: Actual:\", userCombined[user][11], \"   Low Rank Model:\", users_hat[user][11])\n",
    "    print(\"speed3C: Actual:\", userCombined[user][12], \"   Low Rank Model:\", users_hat[user][12])\n",
    "    print(\"speed4C: Actual:\", userCombined[user][13], \"   Low Rank Model:\", users_hat[user][13])\n",
    "    print(\"speed5C: Actual:\", userCombined[user][14], \"   Low Rank Model:\", users_hat[user][14])\n",
    "    print(\"thematic1C: Actual:\", userCombined[user][15], \"   Low Rank Model:\", users_hat[user][15])\n",
    "    print(\"thematic2C: Actual:\", userCombined[user][16], \"   Low Rank Model:\", users_hat[user][16])\n",
    "    print(\"thematic3C: Actual:\", userCombined[user][17], \"   Low Rank Model:\", users_hat[user][17])\n",
    "    print(\"thematic4C: Actual:\", userCombined[user][18], \"   Low Rank Model:\", users_hat[user][18])\n",
    "    print(\"thematic5C: Actual:\", userCombined[user][19], \"   Low Rank Model:\", users_hat[user][19])\n",
    "    print(\"interaction1C: Actual:\", userCombined[user][20], \"   Low Rank Model:\", users_hat[user][20])\n",
    "    print(\"interaction2C: Actual:\", userCombined[user][21], \"   Low Rank Model:\", users_hat[user][21])\n",
    "    print(\"interaction3C: Actual:\", userCombined[user][22], \"   Low Rank Model:\", users_hat[user][22])\n",
    "    print(\"interaction4C: Actual:\", userCombined[user][23], \"   Low Rank Model:\", users_hat[user][23])\n",
    "    print(\"interaction5C: Actual:\", userCombined[user][24], \"   Low Rank Model:\", users_hat[user][24])\n",
    "\n",
    "\n",
    "\n",
    "rank_box = IntSlider(\n",
    "    value = rank,\n",
    "    min = 1,\n",
    "    max = 109\n",
    ")\n",
    "\n",
    "user_box = IntSlider(\n",
    "    value = user,\n",
    "    min = 0,\n",
    "    max = 499\n",
    ")\n",
    "\n",
    "\n",
    "generate_button1 = Button(\n",
    "    description = 'Update Model'\n",
    ")\n",
    "\n",
    "generate_button2 = Button(\n",
    "    description = 'View User'\n",
    ")\n",
    "\n",
    "generate_button1.on_click(generate_on_click1)\n",
    "generate_button2.on_click(generate_on_click2)\n",
    "\n",
    "display(\n",
    "    HBox([VBox([Label('Model Rank: ')]),\n",
    "          VBox([rank_box])]),\n",
    "    generate_button1,\n",
    "        HBox([VBox([Label('User: ')]),\n",
    "          VBox([user_box])]),\n",
    "     generate_button2\n",
    ")\n",
    "\n",
    "# create U, sigma, V SVD matricies from the user data, both categories and tags\n",
    "usersU, usersS, usersV = np.linalg.svd(userCombined, full_matrices=False)\n",
    "\n",
    "\n"
   ]
  }
 ],
 "metadata": {
  "kernelspec": {
   "display_name": "Python 3",
   "language": "python",
   "name": "python3"
  },
  "language_info": {
   "codemirror_mode": {
    "name": "ipython",
    "version": 3
   },
   "file_extension": ".py",
   "mimetype": "text/x-python",
   "name": "python",
   "nbconvert_exporter": "python",
   "pygments_lexer": "ipython3",
   "version": "3.6.6"
  }
 },
 "nbformat": 4,
 "nbformat_minor": 2
}
