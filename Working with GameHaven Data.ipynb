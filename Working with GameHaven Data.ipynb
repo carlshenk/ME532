{
 "cells": [
  {
   "cell_type": "markdown",
   "metadata": {},
   "source": [
    "# Importing Packages & Loadign Data"
   ]
  },
  {
   "cell_type": "code",
   "execution_count": null,
   "metadata": {},
   "outputs": [],
   "source": [
    "import json\n",
    "import time\n",
    "import numpy as np\n",
    "import matplotlib.pyplot as plt\n",
    "from ipywidgets import *\n",
    "# from ipywidgets import HBox, VBox, Label, IntSlider, FloatSlider, Button, Output\n",
    "from IPython.display import clear_output\n",
    "\n",
    "with open('ECE532GameData.json', 'r') as f1:\n",
    "    games = json.load(f1)\n",
    "    \n",
    "with open('ECE532PlayerData2.json', 'r') as f2:\n",
    "    users = json.load(f2)\n",
    "\n",
    "i = 0\n",
    "gameCategories = []\n",
    "for each in games:    \n",
    "    gameCategories.append([games[i][\"primaryCategories\"][0][\"complexity\"], \n",
    "                           games[i][\"primaryCategories\"][0][\"depth\"], \n",
    "                           games[i][\"primaryCategories\"][0][\"speed\"], \n",
    "                           games[i][\"primaryCategories\"][0][\"thematic\"], \n",
    "                           games[i][\"primaryCategories\"][0][\"interaction\"], \n",
    "                           games[i][\"primaryCategories\"][0][\"players\"], \n",
    "                           games[i][\"primaryCategories\"][0][\"mass\"], \n",
    "                           games[i][\"primaryCategories\"][0][\"obscurity\"]])\n",
    "    i = i + 1\n",
    "# print(gameCategories2)\n",
    "\n",
    "i = 0\n",
    "userCategories = []\n",
    "userTags = []\n",
    "for each in users:    \n",
    "    userCategories.append([users[i][\"complexity1C\"], users[i][\"complexity2C\"],\n",
    "                             users[i][\"complexity3C\"], users[i][\"complexity4C\"],\n",
    "                             users[i][\"complexity5C\"], users[i][\"depth1C\"],\n",
    "                             users[i][\"depth2C\"], users[i][\"depth3C\"],\n",
    "                             users[i][\"depth4C\"], users[i][\"depth5C\"],\n",
    "                             users[i][\"speed1C\"], users[i][\"speed2C\"],\n",
    "                             users[i][\"speed3C\"], users[i][\"speed4C\"],\n",
    "                             users[i][\"speed5C\"], users[i][\"thematic1C\"],\n",
    "                             users[i][\"thematic2C\"], users[i][\"thematic3C\"],\n",
    "                             users[i][\"thematic4C\"], users[i][\"thematic5C\"],\n",
    "                             users[i][\"interaction1C\"], users[i][\"interaction2C\"],\n",
    "                             users[i][\"interaction3C\"], users[i][\"interaction4C\"],\n",
    "                             users[i][\"interaction5C\"], users[i][\"players1C\"],\n",
    "                             users[i][\"players2C\"], users[i][\"players3C\"],\n",
    "                             users[i][\"players4C\"], users[i][\"players5C\"],\n",
    "                             users[i][\"mass1C\"], users[i][\"mass2C\"],\n",
    "                             users[i][\"mass3C\"], users[i][\"mass4C\"],\n",
    "                             users[i][\"mass5C\"], users[i][\"obscurity1C\"],\n",
    "                             users[i][\"obscurity2C\"], users[i][\"obscurity3C\"],\n",
    "                             users[i][\"obscurity4C\"], users[i][\"obscurity5C\"]\n",
    "                          ])\n",
    "    userTags.append([users[i][\"competitionTags\"][\"Solo\"],\n",
    "                     users[i][\"competitionTags\"][\"Cooperative\"],\n",
    "                     users[i][\"competitionTags\"][\"Teams\"],\n",
    "                     users[i][\"competitionTags\"][\"Asymetric\"],\n",
    "                     users[i][\"competitionTags\"][\"SemiCompetitive\"],\n",
    "                     users[i][\"competitionTags\"][\"Competitive\"],\n",
    "                     users[i][\"mechanicTags\"][\"DeckBuilding\"],\n",
    "                     users[i][\"mechanicTags\"][\"SetCollection\"],\n",
    "                     users[i][\"mechanicTags\"][\"AreaControl\"],\n",
    "                     users[i][\"mechanicTags\"][\"WorkerPlacement\"],\n",
    "                     users[i][\"mechanicTags\"][\"TrickTaking\"],\n",
    "                     users[i][\"mechanicTags\"][\"Drafting\"],\n",
    "                     users[i][\"mechanicTags\"][\"Legacy\"],\n",
    "                     users[i][\"mechanicTags\"][\"RealTime\"],\n",
    "                     users[i][\"mechanicTags\"][\"HiddenObjectives\"],\n",
    "                     users[i][\"mechanicTags\"][\"HiddenInformation\"],\n",
    "                     users[i][\"mechanicTags\"][\"RoleSpinMove\"],\n",
    "                     users[i][\"mechanicTags\"][\"EngineBuilding\"],\n",
    "                     users[i][\"settingTags\"][\"Fantasy\"],\n",
    "                     users[i][\"settingTags\"][\"SciFi\"],\n",
    "                     users[i][\"settingTags\"][\"Historical\"],\n",
    "                     users[i][\"settingTags\"][\"Dystopia\"],\n",
    "                     users[i][\"settingTags\"][\"Contemporary\"],\n",
    "                     users[i][\"settingTags\"][\"Horror\"],\n",
    "                     users[i][\"settingTags\"][\"Space\"],\n",
    "                     users[i][\"settingTags\"][\"Medieval\"],\n",
    "                     users[i][\"settingTags\"][\"Western\"],\n",
    "                     users[i][\"settingTags\"][\"SteamVictorian\"],\n",
    "                     users[i][\"uncertaintyTags\"][\"Dice\"],\n",
    "                     users[i][\"uncertaintyTags\"][\"Card\"],\n",
    "                     users[i][\"uncertaintyTags\"][\"HiddenRole\"],\n",
    "                     users[i][\"uncertaintyTags\"][\"PressLuck\"],\n",
    "                     users[i][\"uncertaintyTags\"][\"Electornic\"],\n",
    "                     users[i][\"uncertaintyTags\"][\"Tile\"],\n",
    "                     users[i][\"interactionTags\"][\"Trading\"],\n",
    "                     users[i][\"interactionTags\"][\"RolePlaying\"],\n",
    "                     users[i][\"interactionTags\"][\"StoryTelling\"],\n",
    "                     users[i][\"interactionTags\"][\"Combat\"],\n",
    "                     users[i][\"interactionTags\"][\"AuctionBidding\"],\n",
    "                     users[i][\"interactionTags\"][\"TakeThat\"],\n",
    "                     users[i][\"interactionTags\"][\"BettingWager\"],\n",
    "                     users[i][\"interactionTags\"][\"Racing\"],\n",
    "                     users[i][\"interactionTags\"][\"SimultaneiousActions\"],\n",
    "                     users[i][\"interactionTags\"][\"Voting\"],\n",
    "                     users[i][\"interactionTags\"][\"RockPaperScissors\"],\n",
    "                     users[i][\"interactionTags\"][\"Deception\"],\n",
    "                     users[i][\"atmosphereTags\"][\"Thematic\"],\n",
    "                     users[i][\"atmosphereTags\"][\"Abstract\"],\n",
    "                     users[i][\"atmosphereTags\"][\"Adventure\"],\n",
    "                     users[i][\"atmosphereTags\"][\"Economic\"],\n",
    "                     users[i][\"atmosphereTags\"][\"Educational\"],\n",
    "                     users[i][\"atmosphereTags\"][\"Humor\"],\n",
    "                     users[i][\"atmosphereTags\"][\"Party\"],\n",
    "                     users[i][\"atmosphereTags\"][\"Social\"],\n",
    "                     users[i][\"atmosphereTags\"][\"Family\"],\n",
    "                     users[i][\"atmosphereTags\"][\"War\"],\n",
    "                     users[i][\"atmosphereTags\"][\"Puzzle\"],\n",
    "                     users[i][\"atmosphereTags\"][\"Adult\"],\n",
    "                     users[i][\"skillTags\"][\"Trivia\"],\n",
    "                     users[i][\"skillTags\"][\"Acting\"],\n",
    "                     users[i][\"skillTags\"][\"Memory\"],\n",
    "                     users[i][\"skillTags\"][\"Deduction\"],\n",
    "                     users[i][\"skillTags\"][\"Dexterity\"],\n",
    "                     users[i][\"skillTags\"][\"PatternRecognition\"],\n",
    "                     users[i][\"skillTags\"][\"Programming\"],\n",
    "                     users[i][\"skillTags\"][\"Planning\"],\n",
    "                     users[i][\"skillTags\"][\"Luck\"],\n",
    "                     users[i][\"skillTags\"][\"Influence\"],\n",
    "                     users[i][\"skillTags\"][\"Persuesion\"],\n",
    "                    ])\n",
    "                    \n",
    "    i = i + 1\n",
    "\n",
    "\n"
   ]
  },
  {
   "cell_type": "markdown",
   "metadata": {},
   "source": [
    "# Low Rank Approximation of Games"
   ]
  },
  {
   "cell_type": "code",
   "execution_count": null,
   "metadata": {},
   "outputs": [],
   "source": [
    "\n",
    "gamesU, gamesS, gamesV = np.linalg.svd(gameCategories)\n",
    "print(\"Game Categories s = \", gamesS)\n",
    "print(\"Shape of categories = \", np.shape(gameCategories), \"\\n\")"
   ]
  },
  {
   "cell_type": "markdown",
   "metadata": {},
   "source": [
    "# Testing SVD on Games"
   ]
  },
  {
   "cell_type": "code",
   "execution_count": null,
   "metadata": {
    "scrolled": true
   },
   "outputs": [],
   "source": [
    "\n",
    "usersU, usersS, usersV = np.linalg.svd(userCategories)\n",
    "print(\"Game Categories s = \", usersS)\n",
    "print(\"Shape of categories = \", np.shape(userCategories), \"\\n\")"
   ]
  },
  {
   "cell_type": "markdown",
   "metadata": {},
   "source": [
    "# Combining Matricies"
   ]
  },
  {
   "cell_type": "code",
   "execution_count": null,
   "metadata": {},
   "outputs": [],
   "source": [
    "print(\"Shape of User Categories: \", np.shape(userCategories), \"  Shape of User Tags: \", np.shape(userTags))\n",
    "userCombined = np.hstack((userCategories,userTags))\n",
    "print(\"Shape of User Combined: \", np.shape(userCombined), \"\\n\")\n",
    "print(userCombined[0][:])\n"
   ]
  },
  {
   "cell_type": "markdown",
   "metadata": {},
   "source": [
    "# Singular Value Decomposition of User "
   ]
  },
  {
   "cell_type": "code",
   "execution_count": null,
   "metadata": {},
   "outputs": [],
   "source": [
    "# create U, sigma, V SVD matricies from the user data, both categories and tags\n",
    "usersU, usersS, usersV = np.linalg.svd(userCombined, full_matrices=False)\n",
    "\n",
    "fNormArray = []\n",
    "### Rank of Model ###\n",
    "for i in range(np.size(usersS)):\n",
    "    rank = i + 1 #                                            for revese ordering, use: np.size(usersS) - i\n",
    "    uLowRankUsers = usersU[:,0:rank] #                        Columns of U will be basis of user patterns\n",
    "    diagElements = usersS[0:rank]\n",
    "    sLowRankUsers = np.diag(diagElements)\n",
    "    vLowRankUsers = np.transpose(usersV)[:,0:rank] #          sigma * Vt will make the weighting matrix\n",
    "    vTLowRankUsers = np.transpose(vLowRankUsers)  \n",
    "\n",
    "    weightsLowRankUsers = np.matmul(sLowRankUsers, vTLowRankUsers)\n",
    "    users_hat = np.matmul(uLowRankUsers, weightsLowRankUsers)   #   caluclated from partial u * s * vt\n",
    "    \n",
    "    fNormArray.append(np.linalg.norm(userCombined - users_hat))    # calcualting the norm of the model error\n",
    "    \n",
    "# print(\"Shape users: \", np.shape(userCombined), \"  Shape users_hat: \", np.shape(users_hat))\n",
    "# print(fNormArray)\n",
    "    "
   ]
  },
  {
   "cell_type": "markdown",
   "metadata": {},
   "source": [
    "# Plotting the norm of differnce between the data & low rank SVD approximation"
   ]
  },
  {
   "cell_type": "code",
   "execution_count": null,
   "metadata": {},
   "outputs": [],
   "source": [
    "plt.plot(fNormArray)\n",
    "plt.xlabel('Model Rank')\n",
    "plt.ylabel('Norm of Difference between Data & Model')\n",
    "plt.title('Accuracy of SVD')\n",
    "plt.show()"
   ]
  },
  {
   "cell_type": "markdown",
   "metadata": {},
   "source": [
    "# Selecting a approximation rank and testing several users"
   ]
  },
  {
   "cell_type": "code",
   "execution_count": null,
   "metadata": {
    "scrolled": false
   },
   "outputs": [],
   "source": [
    "rank = 10\n",
    "user = 0\n",
    "\n",
    "def generate_on_click1(b):\n",
    "\n",
    "    global users_hat\n",
    "    rank = rank_box.value\n",
    "    \n",
    "    uLowRankUsers = usersU[:,0:rank] #                        Columns of U will be basis of user patterns\n",
    "    diagElements = usersS[0:rank]\n",
    "    sLowRankUsers = np.diag(diagElements)\n",
    "    vLowRankUsers = np.transpose(usersV)[:,0:rank] #          sigma * Vt will make the weighting matrix\n",
    "    vTLowRankUsers = np.transpose(vLowRankUsers)  \n",
    "\n",
    "    weightsLowRankUsers = np.matmul(sLowRankUsers, vTLowRankUsers)\n",
    "    users_hat = np.matmul(uLowRankUsers, weightsLowRankUsers) \n",
    "    print(\"Rank = \", rank)\n",
    "    \n",
    "def generate_on_click2(b):\n",
    "\n",
    "    clear_output()\n",
    "    user = user_box.value\n",
    "    \n",
    "    display(\n",
    "    HBox([VBox([Label('Model Rank: ')]),\n",
    "          VBox([rank_box])]),\n",
    "    generate_button1,\n",
    "        HBox([VBox([Label('User: ')]),\n",
    "          VBox([user_box])]),\n",
    "    generate_button2\n",
    "    )\n",
    "    \n",
    "    print(\"complexity1C: Actual:\", userCombined[user][0], \"   Low Rank Model:\", users_hat[user][0])\n",
    "    print(\"complexity2C: Actual:\", userCombined[user][1], \"   Low Rank Model:\", users_hat[user][1])\n",
    "    print(\"complexity3C: Actual:\", userCombined[user][2], \"   Low Rank Model:\", users_hat[user][2])\n",
    "    print(\"complexity4C: Actual:\", userCombined[user][3], \"   Low Rank Model:\", users_hat[user][3])\n",
    "    print(\"complexity5C: Actual:\", userCombined[user][4], \"   Low Rank Model:\", users_hat[user][4])\n",
    "    print(\"depth1C: Actual:\", userCombined[user][5], \"   Low Rank Model:\", users_hat[user][5])\n",
    "    print(\"depth2C: Actual:\", userCombined[user][6], \"   Low Rank Model:\", users_hat[user][6])\n",
    "    print(\"depth3C: Actual:\", userCombined[user][7], \"   Low Rank Model:\", users_hat[user][7])\n",
    "    print(\"depth4C: Actual:\", userCombined[user][8], \"   Low Rank Model:\", users_hat[user][8])\n",
    "    print(\"depth5C: Actual:\", userCombined[user][9], \"   Low Rank Model:\", users_hat[user][9])\n",
    "    print(\"speed1C: Actual:\", userCombined[user][10], \"   Low Rank Model:\", users_hat[user][10])\n",
    "    print(\"speed2C: Actual:\", userCombined[user][11], \"   Low Rank Model:\", users_hat[user][11])\n",
    "    print(\"speed3C: Actual:\", userCombined[user][12], \"   Low Rank Model:\", users_hat[user][12])\n",
    "    print(\"speed4C: Actual:\", userCombined[user][13], \"   Low Rank Model:\", users_hat[user][13])\n",
    "    print(\"speed5C: Actual:\", userCombined[user][14], \"   Low Rank Model:\", users_hat[user][14])\n",
    "    print(\"thematic1C: Actual:\", userCombined[user][15], \"   Low Rank Model:\", users_hat[user][15])\n",
    "    print(\"thematic2C: Actual:\", userCombined[user][16], \"   Low Rank Model:\", users_hat[user][16])\n",
    "    print(\"thematic3C: Actual:\", userCombined[user][17], \"   Low Rank Model:\", users_hat[user][17])\n",
    "    print(\"thematic4C: Actual:\", userCombined[user][18], \"   Low Rank Model:\", users_hat[user][18])\n",
    "    print(\"thematic5C: Actual:\", userCombined[user][19], \"   Low Rank Model:\", users_hat[user][19])\n",
    "    print(\"interaction1C: Actual:\", userCombined[user][20], \"   Low Rank Model:\", users_hat[user][20])\n",
    "    print(\"interaction2C: Actual:\", userCombined[user][21], \"   Low Rank Model:\", users_hat[user][21])\n",
    "    print(\"interaction3C: Actual:\", userCombined[user][22], \"   Low Rank Model:\", users_hat[user][22])\n",
    "    print(\"interaction4C: Actual:\", userCombined[user][23], \"   Low Rank Model:\", users_hat[user][23])\n",
    "    print(\"interaction5C: Actual:\", userCombined[user][24], \"   Low Rank Model:\", users_hat[user][24])\n",
    "\n",
    "\n",
    "\n",
    "rank_box = IntSlider(\n",
    "    value = rank,\n",
    "    min = 1,\n",
    "    max = 109\n",
    ")\n",
    "\n",
    "user_box = IntSlider(\n",
    "    value = user,\n",
    "    min = 0,\n",
    "    max = 499\n",
    ")\n",
    "\n",
    "\n",
    "generate_button1 = Button(\n",
    "    description = 'Update Model'\n",
    ")\n",
    "\n",
    "generate_button2 = Button(\n",
    "    description = 'View User'\n",
    ")\n",
    "\n",
    "generate_button1.on_click(generate_on_click1)\n",
    "generate_button2.on_click(generate_on_click2)\n",
    "\n",
    "display(\n",
    "    HBox([VBox([Label('Model Rank: ')]),\n",
    "          VBox([rank_box])]),\n",
    "    generate_button1,\n",
    "        HBox([VBox([Label('User: ')]),\n",
    "          VBox([user_box])]),\n",
    "     generate_button2\n",
    ")\n",
    "\n",
    "# create U, sigma, V SVD matricies from the user data, both categories and tags\n",
    "usersU, usersS, usersV = np.linalg.svd(userCombined, full_matrices=False)\n",
    "\n",
    "\n"
   ]
  },
  {
   "cell_type": "markdown",
   "metadata": {},
   "source": [
    "# Defining the k-means function"
   ]
  },
  {
   "cell_type": "code",
   "execution_count": null,
   "metadata": {},
   "outputs": [],
   "source": [
    "def kMeans(X, K, maxIters = 20, plot_progress = None):\n",
    "\n",
    "    centroids = X[np.random.choice(len(X), K)]\n",
    "    for i in range(maxIters):\n",
    "        # Cluster Assignment step\n",
    "        C = np.array([np.argmin([(x_i-y_k)@(x_i-y_k) for y_k in centroids]) for x_i in X])\n",
    "        # Update centroids step \n",
    "        centroids = []\n",
    "        for k in range(K):\n",
    "            if (C == k).any():\n",
    "                centroids.append( X[C == k].mean(axis = 0) )\n",
    "            else: # if there are no data points assigned to this certain centroid\n",
    "                centroids.append( X[np.random.choice(len(X))] )\n",
    "        if plot_progress != None: plot_progress(X, C, np.array(centroids))\n",
    "    return np.array(centroids) , C"
   ]
  },
  {
   "cell_type": "markdown",
   "metadata": {},
   "source": [
    "# K-means clustering, calculating alll possible numbers of clusters, building a model based off centroids, and finding the norm of the difference between the model and original data"
   ]
  },
  {
   "cell_type": "code",
   "execution_count": null,
   "metadata": {
    "scrolled": true
   },
   "outputs": [],
   "source": [
    "progress_box = FloatProgress(\n",
    "    value = 0,\n",
    "    min = 0,\n",
    "    max = 1,\n",
    "    #description = 'Progress: '\n",
    ")\n",
    "\n",
    "rows = np.array(userCombined.shape)[0]\n",
    "cols = np.array(userCombined.shape)[1]\n",
    "\n",
    "\n",
    "fNormArray3 = []\n",
    "print(\"progress:\")\n",
    "display(\n",
    "    HBox([progress_box])   \n",
    ")  \n",
    "\n",
    "for i in range(np.size(usersS)):\n",
    "    rank = i + 1                                           \n",
    "    centroids, C = kMeans(userCombined.transpose(), K = rank)\n",
    "    \n",
    "    usersCombined_hat = np.zeros((rows,cols),float)\n",
    "    \n",
    "    for j in range(cols):\n",
    "        usersCombined_hat[:,j]=centroids.transpose()[:,C[j]]\n",
    "    \n",
    "    fNormArray3.append(np.linalg.norm(userCombined - usersCombined_hat))    # calcualting the norm of the model error\n",
    "    progress_box.value = i/np.size(usersS)\n",
    "    \n",
    "plt.plot(fNormArray3)\n",
    "plt.xlabel('Model Rank')\n",
    "plt.ylabel('Norm of Difference between Data & Model')\n",
    "plt.title('Accuracy of K means')\n",
    "plt.show()"
   ]
  },
  {
   "cell_type": "markdown",
   "metadata": {},
   "source": [
    "# Plotting comparison between k-means and SVD model accuracy as a function of model rank / clusters"
   ]
  },
  {
   "cell_type": "code",
   "execution_count": null,
   "metadata": {},
   "outputs": [],
   "source": [
    "plt.plot(fNormArray, color='red', label='SVD')\n",
    "plt.plot(fNormArray3, color='blue', label='K means')\n",
    "plt.legend()\n",
    "plt.xlabel('Model Rank')\n",
    "plt.ylabel('Norm of Difference between Data & Model')\n",
    "plt.title('Comparison Between Models')\n",
    "plt.show()"
   ]
  }
 ],
 "metadata": {
  "kernelspec": {
   "display_name": "Python 3",
   "language": "python",
   "name": "python3"
  },
  "language_info": {
   "codemirror_mode": {
    "name": "ipython",
    "version": 3
   },
   "file_extension": ".py",
   "mimetype": "text/x-python",
   "name": "python",
   "nbconvert_exporter": "python",
   "pygments_lexer": "ipython3",
   "version": "3.6.6"
  }
 },
 "nbformat": 4,
 "nbformat_minor": 2
}
