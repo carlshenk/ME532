{
 "cells": [
  {
   "cell_type": "markdown",
   "metadata": {},
   "source": [
    "# Importing Packages & Loadign Data"
   ]
  },
  {
   "cell_type": "code",
   "execution_count": 4,
   "metadata": {},
   "outputs": [],
   "source": [
    "# install pip\n",
    "# Command Line Installs Required\n",
    "# python -m pip install --upgrade pip\n",
    "# python -m pip install matplotlib\n",
    "# python -m pip install boto3\n",
    "\n",
    "import json\n",
    "import numpy as np\n",
    "import matplotlib.pyplot as plt\n",
    "from ipywidgets import HBox, VBox, Label, IntSlider, FloatSlider, Button, Output\n",
    "from IPython.display import clear_output\n",
    "from termcolor import colored\n",
    "\n",
    "with open('ECE532GameData.json', 'r') as f1:\n",
    "    games = json.load(f1)\n",
    "    \n",
    "with open('ECE532PlayerData.json', 'r') as f2:\n",
    "    users = json.load(f2)\n",
    "    \n",
    "#complexity = []\n",
    "#depth = []\n",
    "#i = 0\n",
    "#for each in games:    \n",
    "#    complexity.append(games[i][\"primaryCategories\"][0][\"complexity\"])\n",
    "#    depth.append(games[i][\"primaryCategories\"][0][\"depth\"])\n",
    "#    i = i + 1\n",
    "#gameCategories = np.column_stack((complexity, depth))\n",
    "\n",
    "i = 0\n",
    "gameCategories = []\n",
    "for each in games:    \n",
    "    gameCategories.append([games[i][\"primaryCategories\"][0][\"complexity\"], \n",
    "                           games[i][\"primaryCategories\"][0][\"depth\"], \n",
    "                           games[i][\"primaryCategories\"][0][\"speed\"], \n",
    "                           games[i][\"primaryCategories\"][0][\"thematic\"], \n",
    "                           games[i][\"primaryCategories\"][0][\"interaction\"], \n",
    "                           games[i][\"primaryCategories\"][0][\"players\"], \n",
    "                           games[i][\"primaryCategories\"][0][\"mass\"], \n",
    "                           games[i][\"primaryCategories\"][0][\"obscurity\"]])\n",
    "    i = i + 1\n",
    "# print(gameCategories2)\n",
    "\n",
    "i = 0\n",
    "userCategories = []\n",
    "userTags = []\n",
    "for each in users:    \n",
    "    userCategories.append([users[i][\"complexity1C\"], users[i][\"complexity2C\"],\n",
    "                             users[i][\"complexity3C\"], users[i][\"complexity4C\"],\n",
    "                             users[i][\"complexity5C\"], users[i][\"depth1C\"],\n",
    "                             users[i][\"depth2C\"], users[i][\"depth3C\"],\n",
    "                             users[i][\"depth4C\"], users[i][\"depth5C\"],\n",
    "                             users[i][\"speed1C\"], users[i][\"speed2C\"],\n",
    "                             users[i][\"speed3C\"], users[i][\"speed4C\"],\n",
    "                             users[i][\"speed5C\"], users[i][\"thematic1C\"],\n",
    "                             users[i][\"thematic2C\"], users[i][\"thematic3C\"],\n",
    "                             users[i][\"thematic4C\"], users[i][\"thematic5C\"],\n",
    "                             users[i][\"interaction1C\"], users[i][\"interaction2C\"],\n",
    "                             users[i][\"interaction3C\"], users[i][\"interaction4C\"],\n",
    "                             users[i][\"interaction5C\"], users[i][\"players1C\"],\n",
    "                             users[i][\"players2C\"], users[i][\"players3C\"],\n",
    "                             users[i][\"players4C\"], users[i][\"players5C\"],\n",
    "                             users[i][\"mass1C\"], users[i][\"mass2C\"],\n",
    "                             users[i][\"mass3C\"], users[i][\"mass4C\"],\n",
    "                             users[i][\"mass5C\"], users[i][\"obscurity1C\"],\n",
    "                             users[i][\"obscurity2C\"], users[i][\"obscurity3C\"],\n",
    "                             users[i][\"obscurity4C\"], users[i][\"obscurity5C\"]\n",
    "                          ])\n",
    "    userTags.append([users[i][\"competitionTags\"][\"Solo\"],\n",
    "                     users[i][\"competitionTags\"][\"Cooperative\"],\n",
    "                     users[i][\"competitionTags\"][\"Teams\"],\n",
    "                     users[i][\"competitionTags\"][\"Asymetric\"],\n",
    "                     users[i][\"competitionTags\"][\"SemiCompetitive\"],\n",
    "                     users[i][\"competitionTags\"][\"Competitive\"],\n",
    "                     users[i][\"mechanicTags\"][\"DeckBuilding\"],\n",
    "                     users[i][\"mechanicTags\"][\"SetCollection\"],\n",
    "                     users[i][\"mechanicTags\"][\"AreaControl\"],\n",
    "                     users[i][\"mechanicTags\"][\"WorkerPlacement\"],\n",
    "                     users[i][\"mechanicTags\"][\"TrickTaking\"],\n",
    "                     users[i][\"mechanicTags\"][\"Drafting\"],\n",
    "                     users[i][\"mechanicTags\"][\"Legacy\"],\n",
    "                     users[i][\"mechanicTags\"][\"RealTime\"],\n",
    "                     users[i][\"mechanicTags\"][\"HiddenObjectives\"],\n",
    "                     users[i][\"mechanicTags\"][\"HiddenInformation\"],\n",
    "                     users[i][\"mechanicTags\"][\"RoleSpinMove\"],\n",
    "                     users[i][\"mechanicTags\"][\"EngineBuilding\"],\n",
    "                     users[i][\"settingTags\"][\"Fantasy\"],\n",
    "                     users[i][\"settingTags\"][\"SciFi\"],\n",
    "                     users[i][\"settingTags\"][\"Historical\"],\n",
    "                     users[i][\"settingTags\"][\"Dystopia\"],\n",
    "                     users[i][\"settingTags\"][\"Contemporary\"],\n",
    "                     users[i][\"settingTags\"][\"Horror\"],\n",
    "                     users[i][\"settingTags\"][\"Space\"],\n",
    "                     users[i][\"settingTags\"][\"Medieval\"],\n",
    "                     users[i][\"settingTags\"][\"Western\"],\n",
    "                     users[i][\"settingTags\"][\"SteamVictorian\"],\n",
    "                     users[i][\"uncertaintyTags\"][\"Dice\"],\n",
    "                     users[i][\"uncertaintyTags\"][\"Card\"],\n",
    "                     users[i][\"uncertaintyTags\"][\"HiddenRole\"],\n",
    "                     users[i][\"uncertaintyTags\"][\"PressLuck\"],\n",
    "                     users[i][\"uncertaintyTags\"][\"Electornic\"],\n",
    "                     users[i][\"uncertaintyTags\"][\"Tile\"],\n",
    "                     users[i][\"interactionTags\"][\"Trading\"],\n",
    "                     users[i][\"interactionTags\"][\"RolePlaying\"],\n",
    "                     users[i][\"interactionTags\"][\"StoryTelling\"],\n",
    "                     users[i][\"interactionTags\"][\"Combat\"],\n",
    "                     users[i][\"interactionTags\"][\"AuctionBidding\"],\n",
    "                     users[i][\"interactionTags\"][\"TakeThat\"],\n",
    "                     users[i][\"interactionTags\"][\"BettingWager\"],\n",
    "                     users[i][\"interactionTags\"][\"Racing\"],\n",
    "                     users[i][\"interactionTags\"][\"SimultaneiousActions\"],\n",
    "                     users[i][\"interactionTags\"][\"Voting\"],\n",
    "                     users[i][\"interactionTags\"][\"RockPaperScissors\"],\n",
    "                     users[i][\"interactionTags\"][\"Deception\"],\n",
    "                     users[i][\"atmosphereTags\"][\"Thematic\"],\n",
    "                     users[i][\"atmosphereTags\"][\"Abstract\"],\n",
    "                     users[i][\"atmosphereTags\"][\"Adventure\"],\n",
    "                     users[i][\"atmosphereTags\"][\"Economic\"],\n",
    "                     users[i][\"atmosphereTags\"][\"Educational\"],\n",
    "                     users[i][\"atmosphereTags\"][\"Humor\"],\n",
    "                     users[i][\"atmosphereTags\"][\"Party\"],\n",
    "                     users[i][\"atmosphereTags\"][\"Social\"],\n",
    "                     users[i][\"atmosphereTags\"][\"Family\"],\n",
    "                     users[i][\"atmosphereTags\"][\"War\"],\n",
    "                     users[i][\"atmosphereTags\"][\"Puzzle\"],\n",
    "                     users[i][\"atmosphereTags\"][\"Adult\"],\n",
    "                     users[i][\"skillTags\"][\"Trivia\"],\n",
    "                     users[i][\"skillTags\"][\"Acting\"],\n",
    "                     users[i][\"skillTags\"][\"Memory\"],\n",
    "                     users[i][\"skillTags\"][\"Deduction\"],\n",
    "                     users[i][\"skillTags\"][\"Dexterity\"],\n",
    "                     users[i][\"skillTags\"][\"PatternRecognition\"],\n",
    "                     users[i][\"skillTags\"][\"Programming\"],\n",
    "                     users[i][\"skillTags\"][\"Planning\"],\n",
    "                     users[i][\"skillTags\"][\"Luck\"],\n",
    "                     users[i][\"skillTags\"][\"Influence\"],\n",
    "                     users[i][\"skillTags\"][\"Persuesion\"],\n",
    "                    ])\n",
    "                    \n",
    "    i = i + 1\n",
    "\n",
    "\n"
   ]
  },
  {
   "cell_type": "markdown",
   "metadata": {},
   "source": [
    "# Low Rank Approximation of Games"
   ]
  },
  {
   "cell_type": "code",
   "execution_count": 5,
   "metadata": {},
   "outputs": [
    {
     "name": "stdout",
     "output_type": "stream",
     "text": "Game Categories s =  [30.87240838  5.79199388  5.05108062  4.85432869  4.47456099  3.82418021\n  3.64003219  2.89804696]\nShape of categories =  (500, 8) \n\n"
    }
   ],
   "source": [
    "\n",
    "gamesU, gamesS, gamesV = np.linalg.svd(gameCategories)\n",
    "print(\"Game Categories s = \", gamesS)\n",
    "print(\"Shape of categories = \", np.shape(gameCategories), \"\\n\")"
   ]
  },
  {
   "cell_type": "markdown",
   "metadata": {},
   "source": [
    "# Testing SVD on Games"
   ]
  },
  {
   "cell_type": "code",
   "execution_count": 6,
   "metadata": {},
   "outputs": [
    {
     "name": "stdout",
     "output_type": "stream",
     "text": "Game Categories s =  [72.98744013 12.36622164 11.00653577  9.78493228  8.6882836   7.76528553\n  7.11466994  6.72871999  6.17305439  6.12021342  5.94317425  5.77805691\n  5.61776141  5.50900061  5.34573807  5.18048412  5.1476983   4.99935529\n  4.89863686  4.85374569  4.76303555  4.69741015  4.63652287  4.54229116\n  4.49987463  4.40932203  4.33019313  4.25970632  4.1937318   4.12056231\n  4.04831683  3.94354979  3.84233451  3.79685744  3.68102029  3.67171347\n  3.4428323   3.37107659  3.34910164  3.16376396]\nShape of categories =  (500, 40) \n\n"
    }
   ],
   "source": [
    "\n",
    "usersU, usersS, usersV = np.linalg.svd(userCategories)\n",
    "print(\"Game Categories s = \", usersS)\n",
    "print(\"Shape of categories = \", np.shape(userCategories), \"\\n\")"
   ]
  },
  {
   "cell_type": "markdown",
   "metadata": {},
   "source": [
    "# Combining Matricies"
   ]
  },
  {
   "cell_type": "code",
   "execution_count": 7,
   "metadata": {},
   "outputs": [
    {
     "name": "stdout",
     "output_type": "stream",
     "text": "Shape of User Categories:  (500, 40)   Shape of User Tags:  (500, 69)\nShape of User Combined:  (500, 109) \n\n"
    }
   ],
   "source": [
    "print(\"Shape of User Categories: \", np.shape(userCategories), \"  Shape of User Tags: \", np.shape(userTags))\n",
    "userCombined = np.hstack((userCategories,userTags))\n",
    "print(\"Shape of User Combined: \", np.shape(userCombined), \"\\n\")\n"
   ]
  },
  {
   "cell_type": "markdown",
   "metadata": {},
   "source": [
    "# Singular Value Decomposition of User "
   ]
  },
  {
   "cell_type": "code",
   "execution_count": 8,
   "metadata": {},
   "outputs": [
    {
     "name": "stdout",
     "output_type": "stream",
     "text": "[57.52286461146763, 55.79397426826109, 54.34422409085049, 53.035599097375, 51.95356022512201, 50.9352848554706, 49.92858486230274, 48.94058576737325, 48.06227005742689, 47.234117859406275, 46.409519077700025, 45.657543045619015, 44.90379803998775, 44.19993976728401, 43.543319121355196, 42.920077927056504, 42.29416293780673, 41.69502290066502, 41.10797005352926, 40.55205882745366, 40.06324899405031, 39.58864228254844, 39.11768777820116, 38.66820626240566, 38.23163194111115, 37.8015579331607, 37.36926060210152, 36.93650699584433, 36.5029610891867, 36.06844166774464, 35.64547982242276, 35.22493739804642, 34.806275418245896, 34.3969754487859, 33.993630539460334, 33.59079319930572, 33.19164877017056, 32.791498564773356, 32.38740170644821, 31.988785844111096, 31.58957273911926, 31.189224626915408, 30.795279395815268, 30.39787987501717, 30.00421621469603, 29.61067929661931, 29.220198840609953, 28.830982409317468, 28.44466208308313, 28.05502904671777, 27.671660481769127, 27.291744677798366, 26.90682440074734, 26.520555969355733, 26.13314121570697, 25.74261091403881, 25.361946701655135, 24.984248212451927, 24.605736487577165, 24.225026502167616, 23.84210247563337, 23.46149351539837, 23.086511816302572, 22.710414136704788, 22.334607865830858, 21.95600456001545, 21.573846570748987, 21.198361147039293, 20.819685181415537, 20.436933539037955, 20.056301077501974, 19.678116049034156, 19.297455581500333, 18.91850171733194, 18.536600362252845, 18.152221011096294, 17.765990042221063, 17.373643182784495, 16.9868741903329, 16.598875560849223, 16.20815138359242, 15.812994352220908, 15.413429833038403, 15.009754548188264, 14.606992502315364, 14.206601013686077, 13.797694424189325, 13.391549304099575, 12.978535720909322, 12.557466842282148, 12.13154531810946, 11.694712488990989, 11.249923065879932, 10.809306386377175, 10.354731663962196, 9.895662667754342, 9.432909172763427, 8.95324835898428, 8.462117229639716, 7.9506254366721825, 7.41970027984629, 6.856299997414505, 6.294350304072956, 5.692144808758141, 5.032285207002538, 4.297141886817992, 3.458812297923716, 2.365483192452459, 3.877757506552073e-13]\n"
    }
   ],
   "source": [
    "# create U, sigma, V SVD matricies from the user data, both categories and tags\n",
    "usersU, usersS, usersV = np.linalg.svd(userCombined, full_matrices=False)\n",
    "\n",
    "fNormArray = []\n",
    "### Rank of Model ###\n",
    "for i in range(np.size(usersS)):\n",
    "    rank = i + 1 #                                            for revese ordering, use: np.size(usersS) - i\n",
    "    uLowRankUsers = usersU[:,0:rank] #                        Columns of U will be basis of user patterns\n",
    "    diagElements = usersS[0:rank]\n",
    "    sLowRankUsers = np.diag(diagElements)\n",
    "    vLowRankUsers = np.transpose(usersV)[:,0:rank] #          sigma * Vt will make the weighting matrix\n",
    "    vTLowRankUsers = np.transpose(vLowRankUsers)  \n",
    "\n",
    "    weightsLowRankUsers = np.matmul(sLowRankUsers, vTLowRankUsers)\n",
    "    users_hat = np.matmul(uLowRankUsers, weightsLowRankUsers)   #   caluclated from partial u * s * vt\n",
    "    \n",
    "    fNormArray.append(np.linalg.norm(userCombined - users_hat))    # calcualting the norm of the model error\n",
    "    \n",
    "# print(\"Shape users: \", np.shape(userCombined), \"  Shape users_hat: \", np.shape(users_hat))\n",
    "print(fNormArray)\n",
    "    "
   ]
  },
  {
   "cell_type": "markdown",
   "metadata": {},
   "source": [
    "# Plotting the norm of differnce between the data & low rank SVD approximation"
   ]
  },
  {
   "cell_type": "code",
   "execution_count": 9,
   "metadata": {},
   "outputs": [
    {
     "data": {
      "text/plain": "[<matplotlib.lines.Line2D at 0x6478270>]"
     },
     "execution_count": 9,
     "metadata": {},
     "output_type": "execute_result"
    },
    {
     "data": {
      "image/png": "[encoded data removed]",
      "text/plain": "<Figure size 432x288 with 1 Axes>"
     },
     "metadata": {
      "needs_background": "light"
     },
     "output_type": "display_data"
    }
   ],
   "source": [
    "plt.plot(fNormArray)"
   ]
  },
  {
   "cell_type": "markdown",
   "metadata": {},
   "source": [
    "# Selecting a approximation rank and testing several users"
   ]
  },
  {
   "cell_type": "code",
   "execution_count": 11,
   "metadata": {},
   "outputs": [
    {
     "data": {
      "application/vnd.jupyter.widget-view+json": {
       "model_id": "d3a1539966ca490a9316085d5af90585",
       "version_major": 2,
       "version_minor": 0
      },
      "text/plain": "HBox(children=(VBox(children=(Label(value='Model Rank: '),)), VBox(children=(IntSlider(value=10, max=109, min=…"
     },
     "metadata": {},
     "output_type": "display_data"
    },
    {
     "data": {
      "application/vnd.jupyter.widget-view+json": {
       "model_id": "12a1ed901c5c4d1c9bc85b3c63094547",
       "version_major": 2,
       "version_minor": 0
      },
      "text/plain": "Button(description='Update Model', style=ButtonStyle())"
     },
     "metadata": {},
     "output_type": "display_data"
    },
    {
     "data": {
      "application/vnd.jupyter.widget-view+json": {
       "model_id": "2fbe31d6d9e247e28375c877fd98478c",
       "version_major": 2,
       "version_minor": 0
      },
      "text/plain": "HBox(children=(VBox(children=(Label(value='User: '),)), VBox(children=(IntSlider(value=0, max=499),))))"
     },
     "metadata": {},
     "output_type": "display_data"
    },
    {
     "data": {
      "application/vnd.jupyter.widget-view+json": {
       "model_id": "3128bd62fdf142fc9181de3dd434285a",
       "version_major": 2,
       "version_minor": 0
      },
      "text/plain": "Button(description='View User', style=ButtonStyle())"
     },
     "metadata": {},
     "output_type": "display_data"
    }
   ],
   "source": [
    "rank = 10\n",
    "user = 0\n",
    "\n",
    "def generate_on_click1(b):\n",
    "\n",
    "    global users_hat\n",
    "    rank = rank_box.value\n",
    "    \n",
    "    uLowRankUsers = usersU[:,0:rank] #                        Columns of U will be basis of user patterns\n",
    "    diagElements = usersS[0:rank]\n",
    "    sLowRankUsers = np.diag(diagElements)\n",
    "    vLowRankUsers = np.transpose(usersV)[:,0:rank] #          sigma * Vt will make the weighting matrix\n",
    "    vTLowRankUsers = np.transpose(vLowRankUsers)  \n",
    "\n",
    "    weightsLowRankUsers = np.matmul(sLowRankUsers, vTLowRankUsers)\n",
    "    users_hat = np.matmul(uLowRankUsers, weightsLowRankUsers) \n",
    "    print(\"Rank = \", rank)\n",
    "    \n",
    "def generate_on_click2(b):\n",
    "\n",
    "    clear_output()\n",
    "    user = user_box.value\n",
    "    \n",
    "    display(\n",
    "    HBox([VBox([Label('Model Rank: ')]),\n",
    "          VBox([rank_box])]),\n",
    "    generate_button1,\n",
    "        HBox([VBox([Label('User: ')]),\n",
    "          VBox([user_box])]),\n",
    "    generate_button2\n",
    "    )\n",
    "    \n",
    "    print(\"complexity1C: Actual:\", userCombined[user][0], \"   Low Rank Model:\", users_hat[user][0])\n",
    "    print(\"complexity2C: Actual:\", userCombined[user][1], \"   Low Rank Model:\", users_hat[user][1])\n",
    "    print(\"complexity3C: Actual:\", userCombined[user][2], \"   Low Rank Model:\", users_hat[user][2])\n",
    "    print(\"complexity4C: Actual:\", userCombined[user][3], \"   Low Rank Model:\", users_hat[user][3])\n",
    "    print(\"complexity5C: Actual:\", userCombined[user][4], \"   Low Rank Model:\", users_hat[user][4])\n",
    "    print(\"depth1C: Actual:\", userCombined[user][5], \"   Low Rank Model:\", users_hat[user][5])\n",
    "    print(\"depth2C: Actual:\", userCombined[user][6], \"   Low Rank Model:\", users_hat[user][6])\n",
    "    print(\"depth3C: Actual:\", userCombined[user][7], \"   Low Rank Model:\", users_hat[user][7])\n",
    "    print(\"depth4C: Actual:\", userCombined[user][8], \"   Low Rank Model:\", users_hat[user][8])\n",
    "    print(\"depth5C: Actual:\", userCombined[user][9], \"   Low Rank Model:\", users_hat[user][9])\n",
    "    print(\"speed1C: Actual:\", userCombined[user][10], \"   Low Rank Model:\", users_hat[user][10])\n",
    "    print(\"speed2C: Actual:\", userCombined[user][11], \"   Low Rank Model:\", users_hat[user][11])\n",
    "    print(\"speed3C: Actual:\", userCombined[user][12], \"   Low Rank Model:\", users_hat[user][12])\n",
    "    print(\"speed4C: Actual:\", userCombined[user][13], \"   Low Rank Model:\", users_hat[user][13])\n",
    "    print(\"speed5C: Actual:\", userCombined[user][14], \"   Low Rank Model:\", users_hat[user][14])\n",
    "    print(\"thematic1C: Actual:\", userCombined[user][15], \"   Low Rank Model:\", users_hat[user][15])\n",
    "    print(\"thematic2C: Actual:\", userCombined[user][16], \"   Low Rank Model:\", users_hat[user][16])\n",
    "    print(\"thematic3C: Actual:\", userCombined[user][17], \"   Low Rank Model:\", users_hat[user][17])\n",
    "    print(\"thematic4C: Actual:\", userCombined[user][18], \"   Low Rank Model:\", users_hat[user][18])\n",
    "    print(\"thematic5C: Actual:\", userCombined[user][19], \"   Low Rank Model:\", users_hat[user][19])\n",
    "    print(\"interaction1C: Actual:\", userCombined[user][20], \"   Low Rank Model:\", users_hat[user][20])\n",
    "    print(\"interaction2C: Actual:\", userCombined[user][21], \"   Low Rank Model:\", users_hat[user][21])\n",
    "    print(\"interaction3C: Actual:\", userCombined[user][22], \"   Low Rank Model:\", users_hat[user][22])\n",
    "    print(\"interaction4C: Actual:\", userCombined[user][23], \"   Low Rank Model:\", users_hat[user][23])\n",
    "    print(\"interaction5C: Actual:\", userCombined[user][24], \"   Low Rank Model:\", users_hat[user][24])\n",
    "\n",
    "\n",
    "\n",
    "rank_box = IntSlider(\n",
    "    value = rank,\n",
    "    min = 1,\n",
    "    max = 109\n",
    ")\n",
    "\n",
    "user_box = IntSlider(\n",
    "    value = user,\n",
    "    min = 0,\n",
    "    max = 499\n",
    ")\n",
    "\n",
    "\n",
    "generate_button1 = Button(\n",
    "    description = 'Update Model'\n",
    ")\n",
    "\n",
    "generate_button2 = Button(\n",
    "    description = 'View User'\n",
    ")\n",
    "\n",
    "generate_button1.on_click(generate_on_click1)\n",
    "generate_button2.on_click(generate_on_click2)\n",
    "\n",
    "display(\n",
    "    HBox([VBox([Label('Model Rank: ')]),\n",
    "          VBox([rank_box])]),\n",
    "    generate_button1,\n",
    "        HBox([VBox([Label('User: ')]),\n",
    "          VBox([user_box])]),\n",
    "     generate_button2\n",
    ")\n",
    "\n",
    "# create U, sigma, V SVD matricies from the user data, both categories and tags\n",
    "usersU, usersS, usersV = np.linalg.svd(userCombined, full_matrices=False)\n",
    "\n",
    "\n"
   ]
  },
  {
   "cell_type": "code",
   "execution_count": null,
   "metadata": {},
   "outputs": [],
   "source": []
  }
 ],
 "metadata": {
  "kernelspec": {
   "display_name": "Python 3",
   "language": "python",
   "name": "python3"
  },
  "language_info": {
   "codemirror_mode": {
    "name": "ipython",
    "version": 3
   },
   "file_extension": ".py",
   "mimetype": "text/x-python",
   "name": "python",
   "nbconvert_exporter": "python",
   "pygments_lexer": "ipython3",
   "version": "3.7.4"
  }
 },
 "nbformat": 4,
 "nbformat_minor": 2
}