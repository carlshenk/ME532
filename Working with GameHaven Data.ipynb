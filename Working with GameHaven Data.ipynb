{
 "cells": [
  {
   "cell_type": "code",
   "execution_count": 1,
   "metadata": {},
   "outputs": [
    {
     "name": "stdout",
     "output_type": "stream",
     "text": [
      "Game Categories s =  [ 19.16385842   3.86148814   3.27281072   3.13922557   2.61954714\n",
      "   2.38088556   2.19646473   1.77409005]\n",
      "Shape of categories =  (200, 8) \n",
      "\n",
      "Game Categories s =  [ 32.26637131   5.96936523   4.74921415   4.26380828   3.95175026\n",
      "   3.84766041   3.38145102   3.19956629   3.15779279   3.04870698\n",
      "   2.92073928   2.84048005   2.7042575    2.603304     2.55187999\n",
      "   2.47311384   2.4310274    2.32692544   2.30425796   2.18234989\n",
      "   2.16758206   2.0528369    1.96477637   1.90486777   1.84894185\n",
      "   1.78726055   1.75275605   1.71785659   1.64416251   1.56131222\n",
      "   1.44724847   1.39939406   1.31379196   1.28748308   1.25179331\n",
      "   1.20260319   1.12934565   1.07535748   1.03734521   0.83560449]\n",
      "Shape of categories =  (100, 40) \n",
      "\n"
     ]
    }
   ],
   "source": [
    "import json\n",
    "import numpy as np\n",
    "\n",
    "with open('ECE532GameData.json', 'r') as f1:\n",
    "    games = json.load(f1)\n",
    "    \n",
    "with open('ECE532PlayerData.json', 'r') as f2:\n",
    "    users = json.load(f2)\n",
    "    \n",
    "#complexity = []\n",
    "#depth = []\n",
    "#i = 0\n",
    "#for each in games:    \n",
    "#    complexity.append(games[i][\"primaryCategories\"][0][\"complexity\"])\n",
    "#    depth.append(games[i][\"primaryCategories\"][0][\"depth\"])\n",
    "#    i = i + 1\n",
    "#gameCategories = np.column_stack((complexity, depth))\n",
    "\n",
    "i = 0\n",
    "gameCategories = []\n",
    "for each in games:    \n",
    "    gameCategories.append([games[i][\"primaryCategories\"][0][\"complexity\"], \n",
    "                           games[i][\"primaryCategories\"][0][\"depth\"], \n",
    "                           games[i][\"primaryCategories\"][0][\"speed\"], \n",
    "                           games[i][\"primaryCategories\"][0][\"thematic\"], \n",
    "                           games[i][\"primaryCategories\"][0][\"interaction\"], \n",
    "                           games[i][\"primaryCategories\"][0][\"players\"], \n",
    "                           games[i][\"primaryCategories\"][0][\"mass\"], \n",
    "                           games[i][\"primaryCategories\"][0][\"obscurity\"]])\n",
    "    i = i + 1\n",
    "# print(gameCategories2)\n",
    "\n",
    "i = 0\n",
    "userCategories = []\n",
    "for each in users:    \n",
    "    userCategories.append([users[i][\"complexity1C\"], users[i][\"complexity2C\"],\n",
    "                             users[i][\"complexity3C\"], users[i][\"complexity4C\"],\n",
    "                             users[i][\"complexity5C\"], users[i][\"depth1C\"],\n",
    "                             users[i][\"depth2C\"], users[i][\"depth3C\"],\n",
    "                             users[i][\"depth4C\"], users[i][\"depth5C\"],\n",
    "                             users[i][\"speed1C\"], users[i][\"speed2C\"],\n",
    "                             users[i][\"speed3C\"], users[i][\"speed4C\"],\n",
    "                             users[i][\"speed5C\"], users[i][\"thematic1C\"],\n",
    "                             users[i][\"thematic2C\"], users[i][\"thematic3C\"],\n",
    "                             users[i][\"thematic4C\"], users[i][\"thematic5C\"],\n",
    "                             users[i][\"interaction1C\"], users[i][\"interaction2C\"],\n",
    "                             users[i][\"interaction3C\"], users[i][\"interaction4C\"],\n",
    "                             users[i][\"interaction5C\"], users[i][\"players1C\"],\n",
    "                             users[i][\"players2C\"], users[i][\"players3C\"],\n",
    "                             users[i][\"players4C\"], users[i][\"players5C\"],\n",
    "                             users[i][\"mass1C\"], users[i][\"mass2C\"],\n",
    "                             users[i][\"mass3C\"], users[i][\"mass4C\"],\n",
    "                             users[i][\"mass5C\"], users[i][\"obscurity1C\"],\n",
    "                             users[i][\"obscurity2C\"], users[i][\"obscurity3C\"],\n",
    "                             users[i][\"obscurity4C\"], users[i][\"obscurity5C\"]\n",
    "                            ])\n",
    "    i = i + 1\n",
    "\n",
    "\n",
    "gamesU, gamesS, gamesV = np.linalg.svd(gameCategories)\n",
    "print(\"Game Categories s = \", gamesS)\n",
    "print(\"Shape of categories = \", np.shape(gameCategories), \"\\n\")\n",
    "\n",
    "usersU, usersS, usersV = np.linalg.svd(userCategories)\n",
    "print(\"Game Categories s = \", usersS)\n",
    "print(\"Shape of categories = \", np.shape(userCategories), \"\\n\")"
   ]
  },
  {
   "cell_type": "code",
   "execution_count": null,
   "metadata": {},
   "outputs": [],
   "source": []
  },
  {
   "cell_type": "code",
   "execution_count": null,
   "metadata": {},
   "outputs": [],
   "source": []
  }
 ],
 "metadata": {
  "kernelspec": {
   "display_name": "Python 3",
   "language": "python",
   "name": "python3"
  },
  "language_info": {
   "codemirror_mode": {
    "name": "ipython",
    "version": 3
   },
   "file_extension": ".py",
   "mimetype": "text/x-python",
   "name": "python",
   "nbconvert_exporter": "python",
   "pygments_lexer": "ipython3",
   "version": "3.6.6"
  }
 },
 "nbformat": 4,
 "nbformat_minor": 2
}
